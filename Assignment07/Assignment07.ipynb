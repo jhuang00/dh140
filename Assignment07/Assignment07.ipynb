{
 "cells": [
  {
   "cell_type": "markdown",
   "id": "172d8b2f-aed0-4450-adb8-f6ec7ffa53dc",
   "metadata": {},
   "source": [
    "# Asssignment 07: Stats & Modeling"
   ]
  },
  {
   "cell_type": "markdown",
   "id": "fc2772ea-d63d-4669-a7ee-12cea14f44a5",
   "metadata": {},
   "source": [
    "### 1. Shakespeare play"
   ]
  },
  {
   "cell_type": "code",
   "execution_count": 1,
   "id": "ff652e51-3952-49a2-9bea-6483a22f692f",
   "metadata": {},
   "outputs": [],
   "source": [
    "import requests\n",
    "from nltk.tokenize import sent_tokenize, word_tokenize\n",
    "from nltk.corpus import stopwords\n",
    "from nltk.probability import FreqDist\n",
    "from nltk.stem import WordNetLemmatizer\n",
    "from string import punctuation\n",
    "import numpy as np\n",
    "import pandas as pd"
   ]
  },
  {
   "cell_type": "markdown",
   "id": "79ce4cec-18e2-4b5c-be04-b3aff84148e4",
   "metadata": {},
   "source": [
    "#### Make a Python string that contains the text of the Shakespeare play, Macbeth"
   ]
  },
  {
   "cell_type": "code",
   "execution_count": 2,
   "id": "29693b15-6ae2-49e9-894c-8ab9eef3d483",
   "metadata": {},
   "outputs": [],
   "source": [
    "# obtain Macbeth text from Project Gutenberg\n",
    "with open('macbeth.txt','w',encoding='utf-8') as f:\n",
    "    f.write(requests.get(\"https://www.gutenberg.org/files/1533/1533-0.txt\").text)"
   ]
  },
  {
   "cell_type": "code",
   "execution_count": 3,
   "id": "6df2bd88-2eb3-4fac-bfe7-533a11a733cf",
   "metadata": {},
   "outputs": [],
   "source": [
    "document = open('macbeth.txt', 'r')\n",
    "text = document.read().lower()"
   ]
  },
  {
   "cell_type": "markdown",
   "id": "6eb16a5c-8153-4684-b837-6891b512ad21",
   "metadata": {},
   "source": [
    "#### Tokenization & Lemmatization"
   ]
  },
  {
   "cell_type": "code",
   "execution_count": 4,
   "id": "58828f8a-314a-48ad-bb78-ce3657a087dd",
   "metadata": {},
   "outputs": [],
   "source": [
    "from nltk.tokenize import word_tokenize, sent_tokenize"
   ]
  },
  {
   "cell_type": "code",
   "execution_count": 5,
   "id": "e31fe00c-af9b-4839-804a-c9b1e8dd7397",
   "metadata": {},
   "outputs": [],
   "source": [
    "# tokenize text to sentences\n",
    "sentences = sent_tokenize(text)"
   ]
  },
  {
   "cell_type": "code",
   "execution_count": 6,
   "id": "b5394bf4-7bc6-49c1-b406-7f75aced5481",
   "metadata": {},
   "outputs": [],
   "source": [
    "# tokenize sentences to words\n",
    "words = []\n",
    "for s in sentences:\n",
    "    for w in word_tokenize(s):\n",
    "        words.append(w)"
   ]
  },
  {
   "cell_type": "code",
   "execution_count": 7,
   "id": "8e7679db-8700-4f6e-b250-614e730c3b4d",
   "metadata": {},
   "outputs": [],
   "source": [
    "words_stemmed = [WordNetLemmatizer().lemmatize(w) for w in words]"
   ]
  },
  {
   "cell_type": "markdown",
   "id": "7c541836-2083-4d7b-b320-fc5e8e259fac",
   "metadata": {},
   "source": [
    "#### Stopwords removal"
   ]
  },
  {
   "cell_type": "code",
   "execution_count": 8,
   "id": "06a74be2-946e-467f-9a92-44035fa9eab4",
   "metadata": {},
   "outputs": [],
   "source": [
    "extra_sw = [\"project\", \"gutenberg\", \"gutenberg-tm\", \"--\", \"...\", \"\\\\\", \"ï\", \"»\", \"¿\"]"
   ]
  },
  {
   "cell_type": "code",
   "execution_count": 9,
   "id": "786ab684-5853-46eb-89e1-b547c75de392",
   "metadata": {},
   "outputs": [],
   "source": [
    "sw = list(punctuation) + stopwords.words('english') + extra_sw"
   ]
  },
  {
   "cell_type": "code",
   "execution_count": 10,
   "id": "8f71f44d-9fd4-4be0-8ab5-0a983f2320ef",
   "metadata": {},
   "outputs": [],
   "source": [
    "words_no_sw = [w for w in words_stemmed if w not in sw]"
   ]
  },
  {
   "cell_type": "markdown",
   "id": "303a97d7-8124-499b-9eef-fd2b9a281dfe",
   "metadata": {},
   "source": [
    "#### Word Frequencies - mean, median, mode, and trimmed mean"
   ]
  },
  {
   "cell_type": "code",
   "execution_count": 11,
   "id": "29837e9c-06c5-4c2e-8926-7af155e99cca",
   "metadata": {
    "tags": []
   },
   "outputs": [],
   "source": [
    "words_freq = FreqDist(words_no_sw)"
   ]
  },
  {
   "cell_type": "code",
   "execution_count": 12,
   "id": "87ff5367-b7f6-455b-be5e-66754ce985cc",
   "metadata": {
    "tags": []
   },
   "outputs": [],
   "source": [
    "wordlist = []\n",
    "wordfreq = []\n",
    "for i in sorted(words_freq, key=words_freq.get, reverse=True):\n",
    "    wordlist.append(i)\n",
    "    wordfreq.append(words_freq[i])\n",
    "df = pd.DataFrame({'wordlist': wordlist, 'wordfreq': wordfreq})"
   ]
  },
  {
   "cell_type": "code",
   "execution_count": 13,
   "id": "7b9f3c48-2cdf-4cb8-a718-505ddf4c18f9",
   "metadata": {},
   "outputs": [
    {
     "data": {
      "text/plain": [
       "3.294360385144429"
      ]
     },
     "execution_count": 13,
     "metadata": {},
     "output_type": "execute_result"
    }
   ],
   "source": [
    "# mean\n",
    "df['wordfreq'].mean()"
   ]
  },
  {
   "cell_type": "code",
   "execution_count": 14,
   "id": "6c385832-8bdd-455b-81d7-83fd62d86f98",
   "metadata": {},
   "outputs": [
    {
     "data": {
      "text/plain": [
       "1.0"
      ]
     },
     "execution_count": 14,
     "metadata": {},
     "output_type": "execute_result"
    }
   ],
   "source": [
    "# median\n",
    "df['wordfreq'].median()"
   ]
  },
  {
   "cell_type": "code",
   "execution_count": 15,
   "id": "a03f5c74-351e-441f-8d4e-0149a65fb30e",
   "metadata": {},
   "outputs": [
    {
     "data": {
      "text/plain": [
       "0    1\n",
       "dtype: int64"
      ]
     },
     "execution_count": 15,
     "metadata": {},
     "output_type": "execute_result"
    }
   ],
   "source": [
    "# mode\n",
    "df['wordfreq'].mode()"
   ]
  },
  {
   "cell_type": "code",
   "execution_count": 16,
   "id": "efdb3261-2df1-467c-aaaf-b63d6fb4e749",
   "metadata": {},
   "outputs": [
    {
     "data": {
      "text/plain": [
       "14.522772277227723"
      ]
     },
     "execution_count": 16,
     "metadata": {},
     "output_type": "execute_result"
    }
   ],
   "source": [
    "# trimmed mean\n",
    "df[df['wordfreq'] >= 5]['wordfreq'].mean()"
   ]
  },
  {
   "cell_type": "markdown",
   "id": "5978bf3d-2565-42f3-a95a-c4731ebc601c",
   "metadata": {},
   "source": [
    "Words that have a frequency that is lower than 5 times get omitted when calculating the trimmed mean."
   ]
  },
  {
   "cell_type": "markdown",
   "id": "f340a2b1-d385-4f1a-881c-f25e779e0248",
   "metadata": {},
   "source": [
    "#### Plot histogram of the word frequency data"
   ]
  },
  {
   "cell_type": "code",
   "execution_count": 17,
   "id": "b978db00-5e51-4f1f-aa5b-b3f65691de90",
   "metadata": {},
   "outputs": [
    {
     "data": {
      "text/plain": [
       "<AxesSubplot:title={'center':'Word Frequency in Macbeth'}, ylabel='Frequency'>"
      ]
     },
     "execution_count": 17,
     "metadata": {},
     "output_type": "execute_result"
    },
    {
     "data": {
      "image/png": "[encoded data removed]",
      "text/plain": [
       "<Figure size 432x288 with 1 Axes>"
      ]
     },
     "metadata": {
      "needs_background": "light"
     },
     "output_type": "display_data"
    }
   ],
   "source": [
    "# word frequency histogram\n",
    "df.plot(kind=\"hist\", bins=100, title=\"Word Frequency in Macbeth\")"
   ]
  },
  {
   "cell_type": "markdown",
   "id": "58633cdb-b90e-4d64-ac1b-76636269edf3",
   "metadata": {},
   "source": [
    "The mean word frequency is roughly 3.29, which is on the very left, very lower end in terms of the relative location on the histogram, as the scale of the x-axis is from 0 to over 300. The median and mode are both 1, which shows that the majority of the words appear once, and these values definitely live on the lowest end on the histogram. The trimmed mean, which trimmed the word frequencies lower than 5, has a value of 14.52, which is still on the lower end of the histogram, but it more on the right than the mean, mode, and median."
   ]
  },
  {
   "cell_type": "code",
   "execution_count": 18,
   "id": "4a70de16-8469-4856-b2e1-09ecd3415d96",
   "metadata": {},
   "outputs": [
    {
     "data": {
      "text/plain": [
       "<AxesSubplot:title={'center':'Word Frequency in Macbeth'}, ylabel='Frequency'>"
      ]
     },
     "execution_count": 18,
     "metadata": {},
     "output_type": "execute_result"
    },
    {
     "data": {
      "image/png": "[encoded data removed]",
      "text/plain": [
       "<Figure size 432x288 with 1 Axes>"
      ]
     },
     "metadata": {
      "needs_background": "light"
     },
     "output_type": "display_data"
    }
   ],
   "source": [
    "# word frequency histogram with word frequencies >= 5\n",
    "df[df['wordfreq'] >= 5]['wordfreq'].plot(kind=\"hist\", bins=100, title=\"Word Frequency in Macbeth\")"
   ]
  },
  {
   "cell_type": "markdown",
   "id": "8aea5b31-24ec-4d68-8118-42593d819548",
   "metadata": {},
   "source": [
    "This histogram only shows the word frequencies greater or equal to 5, and we are able to see the frequency distribution (especially the higher values) more clearly."
   ]
  },
  {
   "cell_type": "code",
   "execution_count": 19,
   "id": "4df86759-29de-4fcc-b393-86306e34b6f8",
   "metadata": {},
   "outputs": [
    {
     "data": {
      "text/plain": [
       "8.272781863104958"
      ]
     },
     "execution_count": 19,
     "metadata": {},
     "output_type": "execute_result"
    }
   ],
   "source": [
    "# standard deviation\n",
    "df['wordfreq'].std()"
   ]
  },
  {
   "cell_type": "code",
   "execution_count": 20,
   "id": "516ce7d6-a1ca-48a6-83a8-e1f0ef816bd6",
   "metadata": {},
   "outputs": [
    {
     "data": {
      "text/plain": [
       "1.0"
      ]
     },
     "execution_count": 20,
     "metadata": {},
     "output_type": "execute_result"
    }
   ],
   "source": [
    "# interquartile range\n",
    "df['wordfreq'].quantile(0.75) - df['wordfreq'].quantile(0.25)"
   ]
  },
  {
   "cell_type": "markdown",
   "id": "53e1f929-527c-4989-960b-7f56e0ee0663",
   "metadata": {},
   "source": [
    "The standard deviation and the interquartile range could both be used to measure the spread of the values. In this case, the standard deviation and the interquartile range have a large difference because the data is very skewed to the right, which indicates that there are a lot of outliers of greater values. The standard deviation is 8.27, which shows that there could be values that deviates far from the mean, 3.29. The interquartile range is only 2, with the 75% quantile being 2 and the 25% quantile being 1, which shows that a very large number of values clustered at the lower end. On the histogram, the interquartile range would be at the very lower end, and the standard deviation would be to the right of it."
   ]
  },
  {
   "cell_type": "markdown",
   "id": "0bbc5e2b-b96a-4446-9393-44faebd34299",
   "metadata": {},
   "source": [
    "### 2. Foray into machine learning"
   ]
  },
  {
   "cell_type": "markdown",
   "id": "f5e04fbf-9cb7-438c-8e27-2efbc49a4c7b",
   "metadata": {},
   "source": [
    "#### Import scikit-learn's example diabetes dataset as a Panda's dataframe"
   ]
  },
  {
   "cell_type": "code",
   "execution_count": 21,
   "id": "926414db-8b8f-46d0-a943-3fa7c75c6f9d",
   "metadata": {},
   "outputs": [],
   "source": [
    "from sklearn import datasets\n",
    "df = datasets.load_diabetes(as_frame=True) \n",
    "features_df = df.data\n",
    "target_df = df.target"
   ]
  },
  {
   "cell_type": "code",
   "execution_count": 22,
   "id": "d2abf4fa-6b54-44f5-a640-c754502c527e",
   "metadata": {},
   "outputs": [
    {
     "name": "stdout",
     "output_type": "stream",
     "text": [
      ".. _diabetes_dataset:\n",
      "\n",
      "Diabetes dataset\n",
      "----------------\n",
      "\n",
      "Ten baseline variables, age, sex, body mass index, average blood\n",
      "pressure, and six blood serum measurements were obtained for each of n =\n",
      "442 diabetes patients, as well as the response of interest, a\n",
      "quantitative measure of disease progression one year after baseline.\n",
      "\n",
      "**Data Set Characteristics:**\n",
      "\n",
      "  :Number of Instances: 442\n",
      "\n",
      "  :Number of Attributes: First 10 columns are numeric predictive values\n",
      "\n",
      "  :Target: Column 11 is a quantitative measure of disease progression one year after baseline\n",
      "\n",
      "  :Attribute Information:\n",
      "      - age     age in years\n",
      "      - sex\n",
      "      - bmi     body mass index\n",
      "      - bp      average blood pressure\n",
      "      - s1      tc, total serum cholesterol\n",
      "      - s2      ldl, low-density lipoproteins\n",
      "      - s3      hdl, high-density lipoproteins\n",
      "      - s4      tch, total cholesterol / HDL\n",
      "      - s5      ltg, possibly log of serum triglycerides level\n",
      "      - s6      glu, blood sugar level\n",
      "\n",
      "Note: Each of these 10 feature variables have been mean centered and scaled by the standard deviation times `n_samples` (i.e. the sum of squares of each column totals 1).\n",
      "\n",
      "Source URL:\n",
      "https://www4.stat.ncsu.edu/~boos/var.select/diabetes.html\n",
      "\n",
      "For more information see:\n",
      "Bradley Efron, Trevor Hastie, Iain Johnstone and Robert Tibshirani (2004) \"Least Angle Regression,\" Annals of Statistics (with discussion), 407-499.\n",
      "(https://web.stanford.edu/~hastie/Papers/LARS/LeastAngle_2002.pdf)\n"
     ]
    }
   ],
   "source": [
    "# view description of the dataset\n",
    "print(df.DESCR)"
   ]
  },
  {
   "cell_type": "markdown",
   "id": "1627a728-05d6-4e06-824c-9d47b034566a",
   "metadata": {},
   "source": [
    "#### Exploratory data analysis"
   ]
  },
  {
   "cell_type": "code",
   "execution_count": 23,
   "id": "6d7b6709-b710-40bd-a0e6-7e6b2eabc1c7",
   "metadata": {},
   "outputs": [
    {
     "data": {
      "text/html": [
       "<div>\n",
       "<style scoped>\n",
       "    .dataframe tbody tr th:only-of-type {\n",
       "        vertical-align: middle;\n",
       "    }\n",
       "\n",
       "    .dataframe tbody tr th {\n",
       "        vertical-align: top;\n",
       "    }\n",
       "\n",
       "    .dataframe thead th {\n",
       "        text-align: right;\n",
       "    }\n",
       "</style>\n",
       "<table border=\"1\" class=\"dataframe\">\n",
       "  <thead>\n",
       "    <tr style=\"text-align: right;\">\n",
       "      <th></th>\n",
       "      <th>age</th>\n",
       "      <th>sex</th>\n",
       "      <th>bmi</th>\n",
       "      <th>bp</th>\n",
       "      <th>s1</th>\n",
       "      <th>s2</th>\n",
       "      <th>s3</th>\n",
       "      <th>s4</th>\n",
       "      <th>s5</th>\n",
       "      <th>s6</th>\n",
       "    </tr>\n",
       "  </thead>\n",
       "  <tbody>\n",
       "    <tr>\n",
       "      <th>0</th>\n",
       "      <td>0.038076</td>\n",
       "      <td>0.050680</td>\n",
       "      <td>0.061696</td>\n",
       "      <td>0.021872</td>\n",
       "      <td>-0.044223</td>\n",
       "      <td>-0.034821</td>\n",
       "      <td>-0.043401</td>\n",
       "      <td>-0.002592</td>\n",
       "      <td>0.019908</td>\n",
       "      <td>-0.017646</td>\n",
       "    </tr>\n",
       "    <tr>\n",
       "      <th>1</th>\n",
       "      <td>-0.001882</td>\n",
       "      <td>-0.044642</td>\n",
       "      <td>-0.051474</td>\n",
       "      <td>-0.026328</td>\n",
       "      <td>-0.008449</td>\n",
       "      <td>-0.019163</td>\n",
       "      <td>0.074412</td>\n",
       "      <td>-0.039493</td>\n",
       "      <td>-0.068330</td>\n",
       "      <td>-0.092204</td>\n",
       "    </tr>\n",
       "    <tr>\n",
       "      <th>2</th>\n",
       "      <td>0.085299</td>\n",
       "      <td>0.050680</td>\n",
       "      <td>0.044451</td>\n",
       "      <td>-0.005671</td>\n",
       "      <td>-0.045599</td>\n",
       "      <td>-0.034194</td>\n",
       "      <td>-0.032356</td>\n",
       "      <td>-0.002592</td>\n",
       "      <td>0.002864</td>\n",
       "      <td>-0.025930</td>\n",
       "    </tr>\n",
       "    <tr>\n",
       "      <th>3</th>\n",
       "      <td>-0.089063</td>\n",
       "      <td>-0.044642</td>\n",
       "      <td>-0.011595</td>\n",
       "      <td>-0.036656</td>\n",
       "      <td>0.012191</td>\n",
       "      <td>0.024991</td>\n",
       "      <td>-0.036038</td>\n",
       "      <td>0.034309</td>\n",
       "      <td>0.022692</td>\n",
       "      <td>-0.009362</td>\n",
       "    </tr>\n",
       "    <tr>\n",
       "      <th>4</th>\n",
       "      <td>0.005383</td>\n",
       "      <td>-0.044642</td>\n",
       "      <td>-0.036385</td>\n",
       "      <td>0.021872</td>\n",
       "      <td>0.003935</td>\n",
       "      <td>0.015596</td>\n",
       "      <td>0.008142</td>\n",
       "      <td>-0.002592</td>\n",
       "      <td>-0.031991</td>\n",
       "      <td>-0.046641</td>\n",
       "    </tr>\n",
       "    <tr>\n",
       "      <th>...</th>\n",
       "      <td>...</td>\n",
       "      <td>...</td>\n",
       "      <td>...</td>\n",
       "      <td>...</td>\n",
       "      <td>...</td>\n",
       "      <td>...</td>\n",
       "      <td>...</td>\n",
       "      <td>...</td>\n",
       "      <td>...</td>\n",
       "      <td>...</td>\n",
       "    </tr>\n",
       "    <tr>\n",
       "      <th>437</th>\n",
       "      <td>0.041708</td>\n",
       "      <td>0.050680</td>\n",
       "      <td>0.019662</td>\n",
       "      <td>0.059744</td>\n",
       "      <td>-0.005697</td>\n",
       "      <td>-0.002566</td>\n",
       "      <td>-0.028674</td>\n",
       "      <td>-0.002592</td>\n",
       "      <td>0.031193</td>\n",
       "      <td>0.007207</td>\n",
       "    </tr>\n",
       "    <tr>\n",
       "      <th>438</th>\n",
       "      <td>-0.005515</td>\n",
       "      <td>0.050680</td>\n",
       "      <td>-0.015906</td>\n",
       "      <td>-0.067642</td>\n",
       "      <td>0.049341</td>\n",
       "      <td>0.079165</td>\n",
       "      <td>-0.028674</td>\n",
       "      <td>0.034309</td>\n",
       "      <td>-0.018118</td>\n",
       "      <td>0.044485</td>\n",
       "    </tr>\n",
       "    <tr>\n",
       "      <th>439</th>\n",
       "      <td>0.041708</td>\n",
       "      <td>0.050680</td>\n",
       "      <td>-0.015906</td>\n",
       "      <td>0.017282</td>\n",
       "      <td>-0.037344</td>\n",
       "      <td>-0.013840</td>\n",
       "      <td>-0.024993</td>\n",
       "      <td>-0.011080</td>\n",
       "      <td>-0.046879</td>\n",
       "      <td>0.015491</td>\n",
       "    </tr>\n",
       "    <tr>\n",
       "      <th>440</th>\n",
       "      <td>-0.045472</td>\n",
       "      <td>-0.044642</td>\n",
       "      <td>0.039062</td>\n",
       "      <td>0.001215</td>\n",
       "      <td>0.016318</td>\n",
       "      <td>0.015283</td>\n",
       "      <td>-0.028674</td>\n",
       "      <td>0.026560</td>\n",
       "      <td>0.044528</td>\n",
       "      <td>-0.025930</td>\n",
       "    </tr>\n",
       "    <tr>\n",
       "      <th>441</th>\n",
       "      <td>-0.045472</td>\n",
       "      <td>-0.044642</td>\n",
       "      <td>-0.073030</td>\n",
       "      <td>-0.081414</td>\n",
       "      <td>0.083740</td>\n",
       "      <td>0.027809</td>\n",
       "      <td>0.173816</td>\n",
       "      <td>-0.039493</td>\n",
       "      <td>-0.004220</td>\n",
       "      <td>0.003064</td>\n",
       "    </tr>\n",
       "  </tbody>\n",
       "</table>\n",
       "<p>442 rows × 10 columns</p>\n",
       "</div>"
      ],
      "text/plain": [
       "          age       sex       bmi        bp        s1        s2        s3  \\\n",
       "0    0.038076  0.050680  0.061696  0.021872 -0.044223 -0.034821 -0.043401   \n",
       "1   -0.001882 -0.044642 -0.051474 -0.026328 -0.008449 -0.019163  0.074412   \n",
       "2    0.085299  0.050680  0.044451 -0.005671 -0.045599 -0.034194 -0.032356   \n",
       "3   -0.089063 -0.044642 -0.011595 -0.036656  0.012191  0.024991 -0.036038   \n",
       "4    0.005383 -0.044642 -0.036385  0.021872  0.003935  0.015596  0.008142   \n",
       "..        ...       ...       ...       ...       ...       ...       ...   \n",
       "437  0.041708  0.050680  0.019662  0.059744 -0.005697 -0.002566 -0.028674   \n",
       "438 -0.005515  0.050680 -0.015906 -0.067642  0.049341  0.079165 -0.028674   \n",
       "439  0.041708  0.050680 -0.015906  0.017282 -0.037344 -0.013840 -0.024993   \n",
       "440 -0.045472 -0.044642  0.039062  0.001215  0.016318  0.015283 -0.028674   \n",
       "441 -0.045472 -0.044642 -0.073030 -0.081414  0.083740  0.027809  0.173816   \n",
       "\n",
       "           s4        s5        s6  \n",
       "0   -0.002592  0.019908 -0.017646  \n",
       "1   -0.039493 -0.068330 -0.092204  \n",
       "2   -0.002592  0.002864 -0.025930  \n",
       "3    0.034309  0.022692 -0.009362  \n",
       "4   -0.002592 -0.031991 -0.046641  \n",
       "..        ...       ...       ...  \n",
       "437 -0.002592  0.031193  0.007207  \n",
       "438  0.034309 -0.018118  0.044485  \n",
       "439 -0.011080 -0.046879  0.015491  \n",
       "440  0.026560  0.044528 -0.025930  \n",
       "441 -0.039493 -0.004220  0.003064  \n",
       "\n",
       "[442 rows x 10 columns]"
      ]
     },
     "execution_count": 23,
     "metadata": {},
     "output_type": "execute_result"
    }
   ],
   "source": [
    "features_df"
   ]
  },
  {
   "cell_type": "code",
   "execution_count": 24,
   "id": "3b87974f-35dc-4381-91fa-8a7381e54126",
   "metadata": {},
   "outputs": [
    {
     "data": {
      "text/html": [
       "<div>\n",
       "<style scoped>\n",
       "    .dataframe tbody tr th:only-of-type {\n",
       "        vertical-align: middle;\n",
       "    }\n",
       "\n",
       "    .dataframe tbody tr th {\n",
       "        vertical-align: top;\n",
       "    }\n",
       "\n",
       "    .dataframe thead th {\n",
       "        text-align: right;\n",
       "    }\n",
       "</style>\n",
       "<table border=\"1\" class=\"dataframe\">\n",
       "  <thead>\n",
       "    <tr style=\"text-align: right;\">\n",
       "      <th></th>\n",
       "      <th>age</th>\n",
       "      <th>sex</th>\n",
       "      <th>bmi</th>\n",
       "      <th>bp</th>\n",
       "      <th>s1</th>\n",
       "      <th>s2</th>\n",
       "      <th>s3</th>\n",
       "      <th>s4</th>\n",
       "      <th>s5</th>\n",
       "      <th>s6</th>\n",
       "    </tr>\n",
       "  </thead>\n",
       "  <tbody>\n",
       "    <tr>\n",
       "      <th>count</th>\n",
       "      <td>4.420000e+02</td>\n",
       "      <td>4.420000e+02</td>\n",
       "      <td>4.420000e+02</td>\n",
       "      <td>4.420000e+02</td>\n",
       "      <td>4.420000e+02</td>\n",
       "      <td>4.420000e+02</td>\n",
       "      <td>4.420000e+02</td>\n",
       "      <td>4.420000e+02</td>\n",
       "      <td>4.420000e+02</td>\n",
       "      <td>4.420000e+02</td>\n",
       "    </tr>\n",
       "    <tr>\n",
       "      <th>mean</th>\n",
       "      <td>-3.634285e-16</td>\n",
       "      <td>1.308343e-16</td>\n",
       "      <td>-8.045349e-16</td>\n",
       "      <td>1.281655e-16</td>\n",
       "      <td>-8.835316e-17</td>\n",
       "      <td>1.327024e-16</td>\n",
       "      <td>-4.574646e-16</td>\n",
       "      <td>3.777301e-16</td>\n",
       "      <td>-3.830854e-16</td>\n",
       "      <td>-3.412882e-16</td>\n",
       "    </tr>\n",
       "    <tr>\n",
       "      <th>std</th>\n",
       "      <td>4.761905e-02</td>\n",
       "      <td>4.761905e-02</td>\n",
       "      <td>4.761905e-02</td>\n",
       "      <td>4.761905e-02</td>\n",
       "      <td>4.761905e-02</td>\n",
       "      <td>4.761905e-02</td>\n",
       "      <td>4.761905e-02</td>\n",
       "      <td>4.761905e-02</td>\n",
       "      <td>4.761905e-02</td>\n",
       "      <td>4.761905e-02</td>\n",
       "    </tr>\n",
       "    <tr>\n",
       "      <th>min</th>\n",
       "      <td>-1.072256e-01</td>\n",
       "      <td>-4.464164e-02</td>\n",
       "      <td>-9.027530e-02</td>\n",
       "      <td>-1.123996e-01</td>\n",
       "      <td>-1.267807e-01</td>\n",
       "      <td>-1.156131e-01</td>\n",
       "      <td>-1.023071e-01</td>\n",
       "      <td>-7.639450e-02</td>\n",
       "      <td>-1.260974e-01</td>\n",
       "      <td>-1.377672e-01</td>\n",
       "    </tr>\n",
       "    <tr>\n",
       "      <th>25%</th>\n",
       "      <td>-3.729927e-02</td>\n",
       "      <td>-4.464164e-02</td>\n",
       "      <td>-3.422907e-02</td>\n",
       "      <td>-3.665645e-02</td>\n",
       "      <td>-3.424784e-02</td>\n",
       "      <td>-3.035840e-02</td>\n",
       "      <td>-3.511716e-02</td>\n",
       "      <td>-3.949338e-02</td>\n",
       "      <td>-3.324879e-02</td>\n",
       "      <td>-3.317903e-02</td>\n",
       "    </tr>\n",
       "    <tr>\n",
       "      <th>50%</th>\n",
       "      <td>5.383060e-03</td>\n",
       "      <td>-4.464164e-02</td>\n",
       "      <td>-7.283766e-03</td>\n",
       "      <td>-5.670611e-03</td>\n",
       "      <td>-4.320866e-03</td>\n",
       "      <td>-3.819065e-03</td>\n",
       "      <td>-6.584468e-03</td>\n",
       "      <td>-2.592262e-03</td>\n",
       "      <td>-1.947634e-03</td>\n",
       "      <td>-1.077698e-03</td>\n",
       "    </tr>\n",
       "    <tr>\n",
       "      <th>75%</th>\n",
       "      <td>3.807591e-02</td>\n",
       "      <td>5.068012e-02</td>\n",
       "      <td>3.124802e-02</td>\n",
       "      <td>3.564384e-02</td>\n",
       "      <td>2.835801e-02</td>\n",
       "      <td>2.984439e-02</td>\n",
       "      <td>2.931150e-02</td>\n",
       "      <td>3.430886e-02</td>\n",
       "      <td>3.243323e-02</td>\n",
       "      <td>2.791705e-02</td>\n",
       "    </tr>\n",
       "    <tr>\n",
       "      <th>max</th>\n",
       "      <td>1.107267e-01</td>\n",
       "      <td>5.068012e-02</td>\n",
       "      <td>1.705552e-01</td>\n",
       "      <td>1.320442e-01</td>\n",
       "      <td>1.539137e-01</td>\n",
       "      <td>1.987880e-01</td>\n",
       "      <td>1.811791e-01</td>\n",
       "      <td>1.852344e-01</td>\n",
       "      <td>1.335990e-01</td>\n",
       "      <td>1.356118e-01</td>\n",
       "    </tr>\n",
       "  </tbody>\n",
       "</table>\n",
       "</div>"
      ],
      "text/plain": [
       "                age           sex           bmi            bp            s1  \\\n",
       "count  4.420000e+02  4.420000e+02  4.420000e+02  4.420000e+02  4.420000e+02   \n",
       "mean  -3.634285e-16  1.308343e-16 -8.045349e-16  1.281655e-16 -8.835316e-17   \n",
       "std    4.761905e-02  4.761905e-02  4.761905e-02  4.761905e-02  4.761905e-02   \n",
       "min   -1.072256e-01 -4.464164e-02 -9.027530e-02 -1.123996e-01 -1.267807e-01   \n",
       "25%   -3.729927e-02 -4.464164e-02 -3.422907e-02 -3.665645e-02 -3.424784e-02   \n",
       "50%    5.383060e-03 -4.464164e-02 -7.283766e-03 -5.670611e-03 -4.320866e-03   \n",
       "75%    3.807591e-02  5.068012e-02  3.124802e-02  3.564384e-02  2.835801e-02   \n",
       "max    1.107267e-01  5.068012e-02  1.705552e-01  1.320442e-01  1.539137e-01   \n",
       "\n",
       "                 s2            s3            s4            s5            s6  \n",
       "count  4.420000e+02  4.420000e+02  4.420000e+02  4.420000e+02  4.420000e+02  \n",
       "mean   1.327024e-16 -4.574646e-16  3.777301e-16 -3.830854e-16 -3.412882e-16  \n",
       "std    4.761905e-02  4.761905e-02  4.761905e-02  4.761905e-02  4.761905e-02  \n",
       "min   -1.156131e-01 -1.023071e-01 -7.639450e-02 -1.260974e-01 -1.377672e-01  \n",
       "25%   -3.035840e-02 -3.511716e-02 -3.949338e-02 -3.324879e-02 -3.317903e-02  \n",
       "50%   -3.819065e-03 -6.584468e-03 -2.592262e-03 -1.947634e-03 -1.077698e-03  \n",
       "75%    2.984439e-02  2.931150e-02  3.430886e-02  3.243323e-02  2.791705e-02  \n",
       "max    1.987880e-01  1.811791e-01  1.852344e-01  1.335990e-01  1.356118e-01  "
      ]
     },
     "execution_count": 24,
     "metadata": {},
     "output_type": "execute_result"
    }
   ],
   "source": [
    "# get summary statistical information\n",
    "features_df.describe()"
   ]
  },
  {
   "cell_type": "code",
   "execution_count": 25,
   "id": "2627d3b5-cc5d-4dae-af00-348bbec17356",
   "metadata": {},
   "outputs": [
    {
     "data": {
      "text/plain": [
       "0      151.0\n",
       "1       75.0\n",
       "2      141.0\n",
       "3      206.0\n",
       "4      135.0\n",
       "       ...  \n",
       "437    178.0\n",
       "438    104.0\n",
       "439    132.0\n",
       "440    220.0\n",
       "441     57.0\n",
       "Name: target, Length: 442, dtype: float64"
      ]
     },
     "execution_count": 25,
     "metadata": {},
     "output_type": "execute_result"
    }
   ],
   "source": [
    "target_df"
   ]
  },
  {
   "cell_type": "code",
   "execution_count": 26,
   "id": "6e4492a3-27b0-42a0-821c-44b9f4eaaf34",
   "metadata": {},
   "outputs": [
    {
     "data": {
      "text/plain": [
       "count    442.000000\n",
       "mean     152.133484\n",
       "std       77.093005\n",
       "min       25.000000\n",
       "25%       87.000000\n",
       "50%      140.500000\n",
       "75%      211.500000\n",
       "max      346.000000\n",
       "Name: target, dtype: float64"
      ]
     },
     "execution_count": 26,
     "metadata": {},
     "output_type": "execute_result"
    }
   ],
   "source": [
    "target_df.describe()"
   ]
  },
  {
   "cell_type": "code",
   "execution_count": 27,
   "id": "497d6490-65ed-453a-9294-58918961fecf",
   "metadata": {},
   "outputs": [],
   "source": [
    "# find column in features_df of highest correlation coefficient with the target values in target_df\n",
    "corrcoef_list = []\n",
    "# loop through each column of features_df and generate 10 coefficients with target_df\n",
    "for col in features_df.columns:\n",
    "    corrcoef_list.append(np.corrcoef(features_df[col], target_df)[1][0])"
   ]
  },
  {
   "cell_type": "code",
   "execution_count": 28,
   "id": "d42b9d8d-a005-4606-ac97-0bfbb1fc6ba6",
   "metadata": {},
   "outputs": [],
   "source": [
    "# alternatively:\n",
    "# for i in range(features_df.shape[1]):\n",
    "#     corrcoef_list.append(np.corrcoef(features_df.iloc[:,i], target_df)[1][0])"
   ]
  },
  {
   "cell_type": "code",
   "execution_count": 29,
   "id": "4104e7d5-85dc-4fbc-a31a-466b0e2a7c08",
   "metadata": {},
   "outputs": [
    {
     "data": {
      "text/plain": [
       "[0.1878887507189198,\n",
       " 0.0430619984516054,\n",
       " 0.5864501344746891,\n",
       " 0.4414838489308862,\n",
       " 0.21202248101455076,\n",
       " 0.17405358696874249,\n",
       " -0.39478925067091847,\n",
       " 0.4304528847447734,\n",
       " 0.5658834252428094,\n",
       " 0.3824834842485812]"
      ]
     },
     "execution_count": 29,
     "metadata": {},
     "output_type": "execute_result"
    }
   ],
   "source": [
    "corrcoef_list"
   ]
  },
  {
   "cell_type": "code",
   "execution_count": 30,
   "id": "b04255f2-5f4e-417e-83a2-113b4336d1be",
   "metadata": {},
   "outputs": [
    {
     "name": "stdout",
     "output_type": "stream",
     "text": [
      "0.5864501344746891\n"
     ]
    }
   ],
   "source": [
    "# find maximum value of correlation coefficient\n",
    "max_corrcoef = max(corrcoef_list)\n",
    "print(max_corrcoef)"
   ]
  },
  {
   "cell_type": "code",
   "execution_count": 31,
   "id": "d436f8fc-1bf7-48a0-b7a2-498bcdbcc73d",
   "metadata": {},
   "outputs": [
    {
     "name": "stdout",
     "output_type": "stream",
     "text": [
      "2\n"
     ]
    }
   ],
   "source": [
    "# find the column index\n",
    "index_max_corrcoef = corrcoef_list.index(max_corrcoef)\n",
    "print(index_max_corrcoef)"
   ]
  },
  {
   "cell_type": "code",
   "execution_count": 32,
   "id": "7e1ed39c-fd1f-4c31-ae08-ad653330e36c",
   "metadata": {},
   "outputs": [
    {
     "name": "stdout",
     "output_type": "stream",
     "text": [
      "bmi\n"
     ]
    }
   ],
   "source": [
    "# find the column name\n",
    "colname_max_corrcoef = features_df.columns[index_max_corrcoef]\n",
    "print(colname_max_corrcoef)"
   ]
  },
  {
   "cell_type": "markdown",
   "id": "2a59f5a3-bedd-4335-8d45-f6057908a43c",
   "metadata": {},
   "source": [
    "The column in features_df that has the highest correlation coefficient with the target values in target_df is the third column (or 2nd in Python indexing), which is bmi."
   ]
  },
  {
   "cell_type": "code",
   "execution_count": 33,
   "id": "14b33aec-e6b7-4249-bc60-3a0ff3dcccb0",
   "metadata": {},
   "outputs": [
    {
     "data": {
      "text/plain": [
       "<AxesSubplot:xlabel='bmi', ylabel='target'>"
      ]
     },
     "execution_count": 33,
     "metadata": {},
     "output_type": "execute_result"
    },
    {
     "data": {
      "image/png": "[encoded data removed]",
      "text/plain": [
       "<Figure size 432x288 with 1 Axes>"
      ]
     },
     "metadata": {
      "needs_background": "light"
     },
     "output_type": "display_data"
    }
   ],
   "source": [
    "# make scatter plot of the target values vs. the bmi column's values\n",
    "bmi_target_df = pd.DataFrame({'bmi':features_df[colname_max_corrcoef], 'target':target_df})\n",
    "bmi_target_df.plot(kind='scatter', x='bmi', y='target')"
   ]
  },
  {
   "cell_type": "markdown",
   "id": "e39ce6ce-7275-4984-a6d1-52c7ca85d73a",
   "metadata": {},
   "source": [
    "#### Perform linear regression with Scikit-learn's LinearRegression"
   ]
  },
  {
   "cell_type": "code",
   "execution_count": 34,
   "id": "95e945d8-ea75-40b9-b0d1-5d10c6289355",
   "metadata": {},
   "outputs": [],
   "source": [
    "import matplotlib.pyplot as plt\n",
    "from sklearn.linear_model import LinearRegression\n",
    "from sklearn.metrics import mean_squared_error, r2_score"
   ]
  },
  {
   "cell_type": "code",
   "execution_count": 35,
   "id": "35117f0c-d8a8-4069-af88-80278ecf3e74",
   "metadata": {},
   "outputs": [],
   "source": [
    "X = bmi_target_df[['bmi']]\n",
    "y = bmi_target_df[['target']]"
   ]
  },
  {
   "cell_type": "code",
   "execution_count": 36,
   "id": "ad024d47-1463-4a4d-ba17-cbb59f693367",
   "metadata": {},
   "outputs": [],
   "source": [
    "reg = LinearRegression().fit(X, y)"
   ]
  },
  {
   "cell_type": "code",
   "execution_count": 37,
   "id": "aa9b68e4-9f66-4459-ad90-0cb96d865519",
   "metadata": {},
   "outputs": [
    {
     "data": {
      "text/plain": [
       "array([[949.43526038]])"
      ]
     },
     "execution_count": 37,
     "metadata": {},
     "output_type": "execute_result"
    }
   ],
   "source": [
    "# find coefficient\n",
    "reg.coef_"
   ]
  },
  {
   "cell_type": "code",
   "execution_count": 38,
   "id": "eb5c1da3-6294-41a2-9463-4518bca5d382",
   "metadata": {},
   "outputs": [
    {
     "data": {
      "text/plain": [
       "array([152.13348416])"
      ]
     },
     "execution_count": 38,
     "metadata": {},
     "output_type": "execute_result"
    }
   ],
   "source": [
    "# find intercept\n",
    "reg.intercept_"
   ]
  },
  {
   "cell_type": "code",
   "execution_count": 39,
   "id": "e86f4214-2c2c-4214-bec8-c9baa1e09042",
   "metadata": {},
   "outputs": [],
   "source": [
    "ytrain = reg.intercept_ + reg.coef_ * X"
   ]
  },
  {
   "cell_type": "code",
   "execution_count": 40,
   "id": "489db95c-fd04-48d8-9ccb-5ebf50e31339",
   "metadata": {},
   "outputs": [
    {
     "data": {
      "image/png": "[encoded data removed]",
      "text/plain": [
       "<Figure size 432x288 with 1 Axes>"
      ]
     },
     "metadata": {
      "needs_background": "light"
     },
     "output_type": "display_data"
    }
   ],
   "source": [
    "plt.plot(X, y, 'ro', X, ytrain, 'b-');"
   ]
  },
  {
   "cell_type": "code",
   "execution_count": 41,
   "id": "dbf0f38f-a44d-4614-b338-153b5f710d45",
   "metadata": {},
   "outputs": [
    {
     "data": {
      "text/plain": [
       "3890.4565854612724"
      ]
     },
     "execution_count": 41,
     "metadata": {},
     "output_type": "execute_result"
    }
   ],
   "source": [
    "# calculate mean squared error\n",
    "mean_squared_error(y, ytrain)"
   ]
  },
  {
   "cell_type": "code",
   "execution_count": 42,
   "id": "e67b7854-d949-4499-9032-3534284023cb",
   "metadata": {},
   "outputs": [
    {
     "data": {
      "text/plain": [
       "0.3439237602253803"
      ]
     },
     "execution_count": 42,
     "metadata": {},
     "output_type": "execute_result"
    }
   ],
   "source": [
    "# calculate R-squared value\n",
    "r2_score(y, ytrain)"
   ]
  },
  {
   "cell_type": "markdown",
   "id": "044a24b4-a2dd-4e08-b26a-14791b29d8f8",
   "metadata": {},
   "source": [
    "#### Linear regression with another variable, s3 (high-density lipoproteins)"
   ]
  },
  {
   "cell_type": "code",
   "execution_count": 43,
   "id": "efc6c76b-3ef8-4bf5-b0c7-d9a56327375d",
   "metadata": {},
   "outputs": [],
   "source": [
    "# perform linear regression of the target values vs. the s3 column's values\n",
    "X2 = features_df[['s3']]\n",
    "y2 = target_df\n",
    "reg2 = LinearRegression().fit(X2, y2)"
   ]
  },
  {
   "cell_type": "code",
   "execution_count": 44,
   "id": "25a56c60-cd94-448e-ad19-7073098f3d27",
   "metadata": {},
   "outputs": [
    {
     "data": {
      "text/plain": [
       "array([-639.14527932])"
      ]
     },
     "execution_count": 44,
     "metadata": {},
     "output_type": "execute_result"
    }
   ],
   "source": [
    "# find coefficient\n",
    "reg2.coef_"
   ]
  },
  {
   "cell_type": "code",
   "execution_count": 45,
   "id": "11ffb6b8-c1e8-4623-82ce-7bec4fe3d8f7",
   "metadata": {},
   "outputs": [
    {
     "data": {
      "text/plain": [
       "152.13348416289566"
      ]
     },
     "execution_count": 45,
     "metadata": {},
     "output_type": "execute_result"
    }
   ],
   "source": [
    "reg2.intercept_"
   ]
  },
  {
   "cell_type": "code",
   "execution_count": 46,
   "id": "c88a4f7d-6870-4ef1-b482-99cd875c6bdb",
   "metadata": {},
   "outputs": [],
   "source": [
    "ytrain2 = reg2.intercept_ + reg2.coef_ * X2"
   ]
  },
  {
   "cell_type": "code",
   "execution_count": 47,
   "id": "b976eb1c-a090-4e7d-a302-f2829392fbf6",
   "metadata": {},
   "outputs": [
    {
     "data": {
      "image/png": "[encoded data removed]",
      "text/plain": [
       "<Figure size 432x288 with 1 Axes>"
      ]
     },
     "metadata": {
      "needs_background": "light"
     },
     "output_type": "display_data"
    }
   ],
   "source": [
    "plt.plot(X2, y2, 'ro', X2, ytrain2, 'g-');"
   ]
  },
  {
   "cell_type": "code",
   "execution_count": 48,
   "id": "e17c8f96-7cd5-4be8-841f-dbb8e459d731",
   "metadata": {},
   "outputs": [
    {
     "data": {
      "text/plain": [
       "5005.661620710653"
      ]
     },
     "execution_count": 48,
     "metadata": {},
     "output_type": "execute_result"
    }
   ],
   "source": [
    "# calculate mean squared error\n",
    "mean_squared_error(y2, ytrain2)"
   ]
  },
  {
   "cell_type": "code",
   "execution_count": 49,
   "id": "80d80e55-89d0-4127-9c9f-dd8fcc8ce8c9",
   "metadata": {},
   "outputs": [
    {
     "data": {
      "text/plain": [
       "0.1558585524453051"
      ]
     },
     "execution_count": 49,
     "metadata": {},
     "output_type": "execute_result"
    }
   ],
   "source": [
    "# calculate R-squared value\n",
    "r2_score(y2, ytrain2)"
   ]
  },
  {
   "cell_type": "markdown",
   "id": "df60192b-3e21-4370-954b-b1669ab9f97f",
   "metadata": {},
   "source": [
    "The new fit's mean squared error is bigger than the previous one, and the R-squared value becomes smaller."
   ]
  }
 ],
 "metadata": {
  "kernelspec": {
   "display_name": "Python 3 (ipykernel)",
   "language": "python",
   "name": "python3"
  },
  "language_info": {
   "codemirror_mode": {
    "name": "ipython",
    "version": 3
   },
   "file_extension": ".py",
   "mimetype": "text/x-python",
   "name": "python",
   "nbconvert_exporter": "python",
   "pygments_lexer": "ipython3",
   "version": "3.9.6"
  }
 },
 "nbformat": 4,
 "nbformat_minor": 5
}
