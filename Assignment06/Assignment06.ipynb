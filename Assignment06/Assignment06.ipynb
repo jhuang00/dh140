{
 "cells": [
  {
   "cell_type": "markdown",
   "id": "52fe6b7b-0018-4c68-ae6f-652b22eb8b48",
   "metadata": {},
   "source": [
    "# Assignment 06: Text Analysis"
   ]
  },
  {
   "cell_type": "markdown",
   "id": "504de962-677e-4e78-8b71-f48fdf88100e",
   "metadata": {},
   "source": [
    "### 1. Shakespeare word frequency"
   ]
  },
  {
   "cell_type": "markdown",
   "id": "ef3caa7f-ee38-46e6-93be-236718cbd6d1",
   "metadata": {},
   "source": [
    "#### Make a Python string that contains the text of the Shakespeare play, Macbeth"
   ]
  },
  {
   "cell_type": "code",
   "execution_count": 1,
   "id": "d4a7c63d-7fa6-4526-a4a3-fa16ba578065",
   "metadata": {},
   "outputs": [],
   "source": [
    "import requests"
   ]
  },
  {
   "cell_type": "code",
   "execution_count": 2,
   "id": "dfdff758-ac18-45bf-96ba-b98ee0b7e2f2",
   "metadata": {},
   "outputs": [],
   "source": [
    "import nltk"
   ]
  },
  {
   "cell_type": "code",
   "execution_count": 3,
   "id": "971f4e99-7265-4b25-868e-09c24f665c74",
   "metadata": {},
   "outputs": [],
   "source": [
    "# obtain Macbeth text from Project Gutenberg\n",
    "target_url = \"https://www.gutenberg.org/files/1533/1533-0.txt\"\n",
    "response = requests.get(target_url)\n",
    "with open('macbeth.txt','w',encoding='utf-8') as f:\n",
    "    f.write(response.text)"
   ]
  },
  {
   "cell_type": "code",
   "execution_count": 4,
   "id": "5a85e20a-ba12-42f5-b32f-6991aafeb720",
   "metadata": {},
   "outputs": [],
   "source": [
    "document = open('macbeth.txt', 'r')\n",
    "text = document.read().lower()"
   ]
  },
  {
   "cell_type": "markdown",
   "id": "cb0f7f43-e9d3-4683-852e-0589140ffc95",
   "metadata": {},
   "source": [
    "#### Tokenization"
   ]
  },
  {
   "cell_type": "code",
   "execution_count": 5,
   "id": "2d3fc3ae-7800-4247-9e7a-be3e5594ea1d",
   "metadata": {},
   "outputs": [],
   "source": [
    "from nltk.tokenize import word_tokenize, sent_tokenize"
   ]
  },
  {
   "cell_type": "code",
   "execution_count": 6,
   "id": "6131d24d-f1e7-4ea0-b471-b08be722fa44",
   "metadata": {},
   "outputs": [],
   "source": [
    "# tokenize text to sentences\n",
    "sentences = sent_tokenize(text)"
   ]
  },
  {
   "cell_type": "code",
   "execution_count": 7,
   "id": "e726262d-6147-47dc-9fa3-f2e91495c585",
   "metadata": {},
   "outputs": [],
   "source": [
    "# tokenize sentences to words\n",
    "words = []\n",
    "for s in sentences:\n",
    "    for w in word_tokenize(s):\n",
    "        words.append(w)"
   ]
  },
  {
   "cell_type": "markdown",
   "id": "45d66cf3-602b-450f-a55a-b0524ce409a3",
   "metadata": {},
   "source": [
    "#### Stopwords removal"
   ]
  },
  {
   "cell_type": "code",
   "execution_count": 8,
   "id": "6d6ada7c-0b72-43bc-8d74-8ed97ef50ac7",
   "metadata": {},
   "outputs": [
    {
     "name": "stderr",
     "output_type": "stream",
     "text": [
      "[nltk_data] Downloading package stopwords to /home/jovyan/nltk_data...\n",
      "[nltk_data]   Package stopwords is already up-to-date!\n"
     ]
    },
    {
     "data": {
      "text/plain": [
       "True"
      ]
     },
     "execution_count": 8,
     "metadata": {},
     "output_type": "execute_result"
    }
   ],
   "source": [
    "from nltk.corpus import stopwords\n",
    "from string import punctuation\n",
    "nltk.download('stopwords')"
   ]
  },
  {
   "cell_type": "code",
   "execution_count": 9,
   "id": "ea8c57f7-6a35-416b-a2f2-a4d930a41e7b",
   "metadata": {},
   "outputs": [],
   "source": [
    "extra_sw = [\"project\", \"gutenberg\", \"gutenberg-tm\", \"--\", \"...\", \"\\\\\", \"ï\", \"»\", \"¿\"]"
   ]
  },
  {
   "cell_type": "code",
   "execution_count": 10,
   "id": "96596cad-fea1-4ca4-963a-8524fcc63748",
   "metadata": {},
   "outputs": [],
   "source": [
    "sw = list(punctuation) + stopwords.words('english') + extra_sw"
   ]
  },
  {
   "cell_type": "code",
   "execution_count": 11,
   "id": "870c6720-dd29-4d11-9263-891917c1554c",
   "metadata": {},
   "outputs": [],
   "source": [
    "words_no_sw = [w for w in words if w not in sw]"
   ]
  },
  {
   "cell_type": "markdown",
   "id": "6a03010a-d669-4eb7-9ecd-91c878de62d0",
   "metadata": {},
   "source": [
    "#### Find the top 20 most frequent words in the play"
   ]
  },
  {
   "cell_type": "code",
   "execution_count": 12,
   "id": "dd10fb2e-3540-4e3c-995a-d1081b355dac",
   "metadata": {},
   "outputs": [],
   "source": [
    "import collections"
   ]
  },
  {
   "cell_type": "code",
   "execution_count": 13,
   "id": "a45ad947-e2f3-4bab-9306-6836e29c5ada",
   "metadata": {},
   "outputs": [],
   "source": [
    "word_count = collections.Counter(words_no_sw)\n",
    "word_top_20 = word_count.most_common(20)"
   ]
  },
  {
   "cell_type": "code",
   "execution_count": 14,
   "id": "5a5719b0-02f6-4222-987c-251b75bc5214",
   "metadata": {},
   "outputs": [
    {
     "name": "stdout",
     "output_type": "stream",
     "text": [
      "[('macbeth', 286), ('macduff', 109), ('lady', 97), ('thou', 88), ('enter', 72), ('shall', 69), ('banquo', 67), ('upon', 61), ('thee', 60), ('malcolm', 58), ('scene', 57), ('yet', 56), ('us', 54), ('ross', 53), ('come', 53), ('witch', 52), ('good', 52), ('thy', 52), ('hath', 51), ('first', 50)]\n"
     ]
    }
   ],
   "source": [
    "print(word_top_20)"
   ]
  },
  {
   "cell_type": "markdown",
   "id": "f1a6829e-3e5b-4673-9248-7f99efe7b37c",
   "metadata": {},
   "source": [
    "These words offer some sense of the play, Macbeth. Specifically, they include many character names in Macbeth. Additionally, words like 'banquo' give a good sense of elements and contents of the play. However, many high frequency words are rather general and do not necessarily point to this particular play. It is rather difficult to tell what the play is about from the words. But words like 'thou,' 'thy,' 'hath,' etc. point to the fact that this is an old English piece."
   ]
  },
  {
   "cell_type": "markdown",
   "id": "1297cc3c-1756-457e-8c9d-e0f6c3cfdf6b",
   "metadata": {},
   "source": [
    "### 2. Yelp sentiments"
   ]
  },
  {
   "cell_type": "markdown",
   "id": "30740f5f-9db7-46f4-b6fb-2eac41ff6213",
   "metadata": {},
   "source": [
    "#### Make a Python string that contains 15 [Yelp](https://www.yelp.com/biz/in-n-out-burger-los-angeles-5) reviews of the restaurant, In-N-Out"
   ]
  },
  {
   "cell_type": "code",
   "execution_count": 15,
   "id": "1376d4ba-c29b-4968-a0f9-7e2e477a6f7d",
   "metadata": {
    "tags": []
   },
   "outputs": [
    {
     "name": "stderr",
     "output_type": "stream",
     "text": [
      "[nltk_data] Downloading package vader_lexicon to\n",
      "[nltk_data]     /home/jovyan/nltk_data...\n",
      "[nltk_data]   Package vader_lexicon is already up-to-date!\n"
     ]
    },
    {
     "data": {
      "text/plain": [
       "True"
      ]
     },
     "execution_count": 15,
     "metadata": {},
     "output_type": "execute_result"
    }
   ],
   "source": [
    "from nltk.sentiment import vader\n",
    "nltk.download(\"vader_lexicon\")"
   ]
  },
  {
   "cell_type": "code",
   "execution_count": 16,
   "id": "77361b7e-94dd-4f68-a417-7bff77b98faf",
   "metadata": {},
   "outputs": [],
   "source": [
    "# import reviews\n",
    "# 5-star\n",
    "r1 = \"Dear Westwood In-N-Out, Thank you for being there for me for post-frat parties and late night paper writing breaks during my UCLA days. Thank you for being there for me post-movie premieres during my entertainment days. And thank you for being there for me in my more recent \\\"calmer and more responsible\\\" days. I love this In-N-Out, and to pay tribute, I am choosing it to announce to my Yelpiverse that I have permanently removed beef from my diet (I wanted to get a year under my belt before my true confessions). Please don't strip me of my foodie card. ;-) Cows. Can't do it. They're sentient. I will miss you, In-N-Out. Maybe you will consider a plant-based patty in the future. Because, you know, 2022. That would rock my world. Maybe I'll stop by one day for some animal fries, eh? Thanks for the memories. Adieu.\"\n",
    "# 5-star\n",
    "r2 = \"Super convenient location located right near UCLA's campus. We came here during lunch time and the line was already long stretching to the bathroom. Make sure you know your order before you get to the cashier. We ordered 2 burgers animal style as well as 2 fries animal style. Do not sleep on animal style! That is the way to go. We also got 2 t-shirts because we wanted to capture our first time at the iconic In-N-Out. I definitely prefer In-N-Out over Shake Shack because of the animal style!\"\n",
    "# 5-star\n",
    "r3 = \"I can safely say that there isn't a single fast food restaurant I have been to more than In-N-Out. Ok maybe McDonalds (I went there a LOT in college) but In-N-Out reigns supreme in quantity and quality. My usual order is a double-double with grilled onions and a Neapolitan shake. I only get fries if I'm with someone else, and if I do, they are usually animal style. The Neapolitan is the best shake period (secret menu!) and the double-double is the perfect meat/burger ratio. I used to get the single cheeseburger, but that was a mistake. Oh and make sure you get chili peppers on the side. It elevates the burger tenfold if you like spice. Ok that's all folks. Now put down your phone and head over here or I will. Also, parking sucks here. Pro tip - there's 2 hour free parking at Target if you can't find a spot. You have to buy something at the store for validation, but it's definitely worth it during the busy hours.\"\n",
    "# 5-star\n",
    "r4 = \"I don't care what anyone says, but In-N-Out always hits at any hour. My roommate and I decided to come here at night-- just cause. This particular location also gets pretty crowded, but we went on a random weekday night, so it wasn't too bad. The 4x4 is basically 4 patties and 4 cheese slices, and honestly, it was quite a lot and super heavy. I'd only get a 4x4 to just try it out once. The double double is a much regular, better option. I think what did it for me was the amount of cheese--too much for my liking. Aside from how giant this burger was, it absolutely HIT. Definitely get it with grilled onions, it elevates the burger so much. I enjoyed taking a bite every time because it's so damn good. The sauce also really wraps the burger nicely. Overall, just a wonderful place for burgers at a pretty decently cheap price!\"\n",
    "# 5-star\n",
    "r5 = \"My heart, my soul, my love. I have nothing but 5 star reviews for each restaurant I have visited. As always I got my classic double double add grilled onions and ketchup, animal style fries, and a pink lemonade. Just as I expected, perfect as always. They have adapted greatly to the COVID pandemic with contactless pay and a fast drive through experience.\"\n",
    "# 4-star\n",
    "r6 = \"3.5 stars for the long wait and line up and room temperature not well done French fries. I rounded it up rather than down because the staff made up for it. They were all so pleasant and sweet. It was a drive through of a notorious very busy location that I know of so expectations were not high.\"\n",
    "# 4-star\n",
    "r7 = \"This is a rather large In-n-Out with ample outdoor and indoor seating. The food is delicious-- I've never had an issue with my order. Staff are friendly and always working hard. 4/5 stars instead of 5 because, as per usual at any In-n-Out, you have to wait a while for your food. Parking is also limited. The drive-thru is always around the corner and can cause some traffic problems. I (luckily) live close enough so I can walk here-- I can't imagine the stress of navigating the In-n-Out traffic here. Overall, I highly recommend this In-n-Out if you are in the mood for a tasty burger or milkshake. Just be ready to wait a while for your food.\"\n",
    "# 4-star\n",
    "r8 = \"BEST burger in LA. consistent and delicious. 10/10 recommend. The line can be a little long but well worth it. Prices are amazing too.\"\n",
    "# 3-star\n",
    "r9 = \"After years of listening to my Cali and non-Cali friends rave about In-N-Out, I finally decided to give it a go. The pros: It's difficult not to enjoy the pleasant vintage diner feel and the affordable pricing is another plus. The staff at this location were very helpful and recommended I try the burger and fries animal style (not on the menu but is a secret menu item all In-N-Out regulars know about). This location was very efficient even though they had a lot of customers and long lines. The cons: I thought that the food tasted very average. Burgers were not very flavorful but animal style definitely made them taste better. Fries on the other hand were not great and as a french fry lover I was disappointed by how dry and stiff they were- animal style made them bearable. Overall rating: average. I'm glad I tried it but it is definitely overhyped.\"\n",
    "# 3-star\n",
    "r10 = \"This is a pretty good location if I don't feel like driving further west. Lines for In-n-Out normally move very quickly which is great, but being in Westwood, I feel it takes a little longer than what I am used to. Maybe it's because I've only been here once, I'm not too familiar with the layout but if I'm craving it enough, I can certainly get used to it. As usual, friendly employees, and you know what you're getting (and what you are in line for).\"\n",
    "# 3-star\n",
    "r11 = \"In-N-Out is tasty but the bread is always an issue for him (gluten sensitivity). However the protein style set up is a special treat and will try it again. I like that they have that option as part of the menu. I wish they would deliver. This location is very busy with tons of UCLA students, which is great but the nearby homeless is an unattractive issue.\"\n",
    "# 2-star\n",
    "r12 = \"This is nothing against the business--the food is just as good as any other In-n-Out, but it's never, ever been worth the nightmare of trying to get through the drive thru line. Not only do you have to wait in a line of cars that rounds the block (not an exaggeration), but also you have to deal with the absolute bozos who are in it. People swerving in front of you to cut the line, yelling out their windows at you because they're scared you might jump in front of them--this all happened to me on my last visit. I'm sorry, no 4 dollar burger is worth me risking damage to my car! I feel a little bad leaving a negative review because of the line, but this location is absolutely inhospitable because of it! You'd probably save time driving to the Venice location.\"\n",
    "# 2-star\n",
    "r13 = \"I grew up in So Cal and In N Out was always my go to for burgers. We just got burgers here in Keizer and the food was not what I would have  expected of In N Out. The fries were warm at best and hard. I threw 80% of them in the trash. The Double Double had almost no dressing on it and the buns were hard/over toasted? The shake was good and the Coke was good. I feel like I just wasted $18.00. I could have spent less at Five Guys and maybe got better.\"\n",
    "# 1-star\n",
    "r14 = \"Let me start out by saying this is a very nice In-N-Out. There are a lot of tables and the big 3-D 'In-N-Out' in the middle of the restaurant is pretty cool. And also I love In-N-Out food. My go-to is a mustard-friend double double with grilled onions and extra lettuce and extra tomato, dressing and peppers on the side. (Skip the animal fries though - the cheese is never melted and it's gross). However I've had terrible service every time here. The last time I visited traumatized me and I'll never go back to this location. The first time I dined in, my order was taking super long and I saw them continuously push it behind the other orders. If I didn't ask about it, I'm sure it would have taken even longer. My order ended up coming out 10min after my friends' did, and I ordered before they did. The second time I went through the drive-through, they again lost our order. The girl at the second window instructed us to pull over to the side of the drive-through lane and wait for someone to bring our food out. Now, it's very cramped. There's technically enough space for 2 cars side by side, and I pulled over all the way to the side as far as I could go, but some drivers were still nervous about driving through the tight space. Most drivers were able to squeeze by, even a large Range Rover was able to, but some drivers were too scared/bad at driving to do it. So I exited my car to try and help direct the bad ones through the space, but I ended up getting *screamed at* angrily by multiple drivers (they all ended up driving through anyway, with my help and the help of the very friendly homeless man hanging out there) and their passengers. Finally the girl in the window waved for me to come grab our food. I grabbed it and best believe I left as quickly as I could. In conclusion I just really didn't need go to through that traumatizing experience, and it's partially due to the existence of rude people in general but also on In-N-Out for putting everyone in such a bad position. Sorry for being so dramatic. I just can't bring myself to return to this In-N-Out.\"\n",
    "# 1-star\n",
    "r15 = \"THIS IN N OUT IS MORE EXPENSIVE THAN ANY OTHER IN N OUT. See the pic for proof. Also whoever took my order in the drive thru on 10/24 at 12:45pm was incompetent. And he gave me my burger plain when I simply asked for no onions (where tf is the tomato and lettuce???). GO TO ANY OTHER IN N OUT WHERE THEY DONT EXPLOIT STUDENTS\""
   ]
  },
  {
   "cell_type": "markdown",
   "id": "53830c19-d6e0-4b7b-aff3-df092d330618",
   "metadata": {},
   "source": [
    "#### Use Vader to find the polarity of each review"
   ]
  },
  {
   "cell_type": "code",
   "execution_count": 17,
   "id": "0fbdf191-d720-44bd-a852-a85d2ebf04c9",
   "metadata": {
    "tags": []
   },
   "outputs": [],
   "source": [
    "sia = vader.SentimentIntensityAnalyzer()"
   ]
  },
  {
   "cell_type": "code",
   "execution_count": 18,
   "id": "1867c29b-4986-4105-9ad4-84b1d9182b53",
   "metadata": {},
   "outputs": [],
   "source": [
    "# save reviews into a list\n",
    "reviews = [r1, r2, r3, r4, r5, r6, r7, r8, r9, r10, r11, r12, r13, r14, r15]"
   ]
  },
  {
   "cell_type": "code",
   "execution_count": 19,
   "id": "c3dacd12-775f-4617-9ae9-107b4b812198",
   "metadata": {},
   "outputs": [],
   "source": [
    "# save scores into a list\n",
    "scores = []\n",
    "for r in reviews:\n",
    "    scores.append(sia.polarity_scores(r))"
   ]
  },
  {
   "cell_type": "code",
   "execution_count": 20,
   "id": "67541b15-615d-4681-a9a8-bb91491c9f7d",
   "metadata": {},
   "outputs": [
    {
     "name": "stdout",
     "output_type": "stream",
     "text": [
      "{'neg': 0.031, 'neu': 0.755, 'pos': 0.214, 'compound': 0.9822}\n",
      "{'neg': 0.018, 'neu': 0.859, 'pos': 0.123, 'compound': 0.8715}\n",
      "{'neg': 0.054, 'neu': 0.741, 'pos': 0.205, 'compound': 0.9851}\n",
      "{'neg': 0.035, 'neu': 0.688, 'pos': 0.277, 'compound': 0.994}\n",
      "{'neg': 0.026, 'neu': 0.851, 'pos': 0.123, 'compound': 0.7935}\n",
      "{'neg': 0.076, 'neu': 0.804, 'pos': 0.121, 'compound': 0.5846}\n",
      "{'neg': 0.05, 'neu': 0.858, 'pos': 0.091, 'compound': 0.7027}\n",
      "{'neg': 0.0, 'neu': 0.502, 'pos': 0.498, 'compound': 0.942}\n",
      "{'neg': 0.068, 'neu': 0.728, 'pos': 0.204, 'compound': 0.9756}\n",
      "{'neg': 0.017, 'neu': 0.826, 'pos': 0.156, 'compound': 0.909}\n",
      "{'neg': 0.047, 'neu': 0.713, 'pos': 0.24, 'compound': 0.9493}\n",
      "{'neg': 0.211, 'neu': 0.752, 'pos': 0.037, 'compound': -0.982}\n",
      "{'neg': 0.079, 'neu': 0.756, 'pos': 0.166, 'compound': 0.8777}\n",
      "{'neg': 0.076, 'neu': 0.837, 'pos': 0.087, 'compound': 0.5324}\n",
      "{'neg': 0.088, 'neu': 0.885, 'pos': 0.028, 'compound': -0.6126}\n"
     ]
    }
   ],
   "source": [
    "for s in scores:\n",
    "    print(s)"
   ]
  },
  {
   "cell_type": "markdown",
   "id": "2fb7d31d-d90f-4885-aaff-6a0cae6f8e08",
   "metadata": {},
   "source": [
    "In some cases, Vader's scores are a pretty accurate representation of user-specified numbers of stars; however, sometimes they are rather distinct from each other. For the first review, for example, the compound score is about 0.98, which corresponds greatly to the 5-star the user gave. However, for the 13th review, for example, the user gave a 2-star, but Vader's score decides that the review is more positive than negative, with a compound score of 0.88 – this is pretty far away from the reality. Also, it is pretty difficult for Vader's scores to accurately represent a neutral (3-star) review; the results of Vader's score often turn out to be overly positive compared to what the users gave. Overall, Vader's scores can be quite spot on, but they are not always accurate."
   ]
  },
  {
   "cell_type": "markdown",
   "id": "41425dad-22d1-4ec6-9a49-bf6a6bf97e38",
   "metadata": {},
   "source": [
    "### 3. Movie reviews"
   ]
  },
  {
   "cell_type": "markdown",
   "id": "30fb93f3-8002-4c9c-a1d3-dbb22cf3361e",
   "metadata": {},
   "source": [
    "#### Make 5 strings that contain reviews (3 sentences each) of the movie, The Grand Budapest Hotel"
   ]
  },
  {
   "cell_type": "code",
   "execution_count": 21,
   "id": "ee0ab5b1-f62a-426c-9677-0f0213473015",
   "metadata": {},
   "outputs": [],
   "source": [
    "c1 = \"Anderson has created an amazing universe that is like watching an MGM film with a foreign story back in the '30s, such as Idiot's Delight. It goes back to the days of exquisite service, enormous wealth and privilege, and idyllic beauty. It's also hilariously funny, with Fiennes popping off the one liners and the young Zero (Tony Revolon) keeping a serious face throughout.\"\n",
    "c2 = \"Wes Anderson has directed a whimsical and absurd black comedy with a camp performance from Fiennes that has a startling odour. It was a shame that he was not Oscar nominated. The story can get dark and murderous at times, it has an underlying sadness.\"\n",
    "c3 = \"It's so nice to have a movie that is knock-down drag-out hilarious. From the beginning foray, telling us about how the hotel came to be, all of its history, and the introduction of the cast of characters, the delightful episodic delivery, it reminded me to some extent of those spectacular comedies of the sixties and seventies: \\\"The Great Race\\\" and \\\"It's a Mad, Mad, Mad, Mad World.\\\" What transpires is Ralph Fiennes' feast for the camera and a story of great love, pain, and intensity.\"\n",
    "c4 = \"This is a new high for Wes Anderson. He's filled this with his usual unique visual style and his quirky characters. In addition, he has used it in an exciting thriller with a bit of mystery.\"\n",
    "c5 = \"THE GRAND BUDAPEST HOTEL is another quirky comedy from director Wes Anderson, a man who can seemingly make no other type of movie. I watched and enjoyed the first half an hour of this film, finding it fresh and inventive; however, the magic began to wear off after this point, and by the end I found it more than a little tiresome. I have a feeling that the director's style would best be suited to short films, not overlong efforts like this.\""
   ]
  },
  {
   "cell_type": "markdown",
   "id": "dd98b18c-48cc-4260-b4be-2e85e8b8fd34",
   "metadata": {},
   "source": [
    "#### Make 5 strings that contain reviews (3 sentences each) of the movie, Birdman"
   ]
  },
  {
   "cell_type": "code",
   "execution_count": 22,
   "id": "22b09f04-977e-4b56-b670-aec3b24464c5",
   "metadata": {},
   "outputs": [],
   "source": [
    "d1 = \"'Birdman' is an exceptionally well made film, with some of the best and cleverest cinematography of the year, some of the cinematography and editing is so dazzling it's enough to take the breath away. The special effects are also tremendous. Directed by Alejandro González Iñárritu (in the first of his deserved director wins, the best being 2015's 'The Revenant), 'Birdman' is one of the best directed films of 2014 too and shows Iñárritu's immense talent as a director, with breath-taking vision, sense of mood and the ability to make the story as gripping as possible.\"\n",
    "d2 = \"Director Alejandro Gonzales Inarritu has created one of the most original and brilliantly witty satires of actors, Hollywood and Broadway. There's no doubt about it but the director has really created a behind-the-scenes look at a struggling actor but not only given us a glimpse into his career but also all the added drama that comes with trying to do something that you should probably fail at. BIRDMAN is a film unlike anything else I've ever seen and that's something rather hard to do in today's day and age.\"\n",
    "d3 = \"The concept of long continuous scenes is interesting. It adds to the level of difficulty. It is audacious and makes the audience sit up to pay attention.\"\n",
    "d4 = \"Norton like Sean Penn shows how effortless he can do comedy even while being intense. The real plus about the film is how you can interpret the film. It is a satire on Hollywood fame (with all its cultural references it will also age quickly) but also a reflective film about life and death.\"\n",
    "d5 = \"While watching \\\"Birdman,\\\" the latest from Alejandro Gonzalez Inarritu (\\\"Babel,\\\" \\\"Amores Perros,\\\" \\\"21 Grams\\\") I felt an admiration and respect for it that never bubbled over into emotional involvement. The acting is superb, and Inarritu chooses to film his story in what appears to be one fluid shot; there are no cuts in the film, and instead master cinematographer Emanuel Lubezki (currently the best one in the business as far as I'm concerned) sends his camera swooping around the rooms and hallways of New York's St. James Theatre, where most of the action of the film is set. So I noticed and admired the formal aspects of the film, but didn't connect with it on any meaningful level.\""
   ]
  },
  {
   "cell_type": "code",
   "execution_count": 23,
   "id": "788b1005-3d88-4e23-a152-78b9bcc80c76",
   "metadata": {},
   "outputs": [],
   "source": [
    "# make a Python list that contains these 10 strings\n",
    "movie_reviews = [c1, c2, c3, c4, c5, d1, d2, d3, d4, d5]"
   ]
  },
  {
   "cell_type": "markdown",
   "id": "9dba945e-c7d8-4078-bd0d-7c02b0c28e1c",
   "metadata": {},
   "source": [
    "#### Analysis"
   ]
  },
  {
   "cell_type": "code",
   "execution_count": 24,
   "id": "a19d1f06-fc0d-45ae-be01-02cc90575c7d",
   "metadata": {},
   "outputs": [],
   "source": [
    "extrastop = ['``',\"''\",\"'re\",\"'s\",\"'re\",'``',\"''\",\"'ll\",\"--\",\"\\'\\'\",\"...\",\n",
    "             \"n\\'t\",'one','would','use','from',\"\\'m\",\"\\'ve\"]"
   ]
  },
  {
   "cell_type": "code",
   "execution_count": 25,
   "id": "d775ff04-3e4f-44bc-a5be-2af7943c4772",
   "metadata": {},
   "outputs": [],
   "source": [
    "myStopWords = list(punctuation) + stopwords.words('english') + extrastop"
   ]
  },
  {
   "cell_type": "code",
   "execution_count": 26,
   "id": "2db55a2b-8768-475e-9c67-cf1c74ac19e6",
   "metadata": {},
   "outputs": [],
   "source": [
    "movie_reviews_no_sw = []\n",
    "for i in movie_reviews:\n",
    "    movie_reviews_no_sw.append([w for w in word_tokenize(i.lower()) if w not in myStopWords])"
   ]
  },
  {
   "cell_type": "code",
   "execution_count": 27,
   "id": "fc779560-4180-4bf5-b582-dbb10e92c4d0",
   "metadata": {
    "tags": []
   },
   "outputs": [],
   "source": [
    "from nltk.stem.porter import PorterStemmer"
   ]
  },
  {
   "cell_type": "code",
   "execution_count": 28,
   "id": "4e5ff670-7222-40ff-ac93-b2786f0a8414",
   "metadata": {},
   "outputs": [],
   "source": [
    "# create p_stemmer of class PorterStemmer\n",
    "p_stemmer = PorterStemmer()"
   ]
  },
  {
   "cell_type": "code",
   "execution_count": 29,
   "id": "1187684f-ac7f-47b8-b6c6-60f14f840c04",
   "metadata": {},
   "outputs": [],
   "source": [
    "listOfStemmedWords = []\n",
    "for i in movie_reviews_no_sw:\n",
    "    listOfStemmedWords.append([p_stemmer.stem(w) for w in i])"
   ]
  },
  {
   "cell_type": "code",
   "execution_count": 30,
   "id": "b6eff142-8d2f-48f4-949f-6afe3c8d76f5",
   "metadata": {},
   "outputs": [
    {
     "name": "stdout",
     "output_type": "stream",
     "text": [
      "Requirement already satisfied: gensim in /opt/conda/lib/python3.9/site-packages (4.1.2)\n",
      "Requirement already satisfied: smart-open>=1.8.1 in /opt/conda/lib/python3.9/site-packages (from gensim) (5.2.1)\n",
      "Requirement already satisfied: scipy>=0.18.1 in /opt/conda/lib/python3.9/site-packages (from gensim) (1.7.1)\n",
      "Requirement already satisfied: numpy>=1.17.0 in /opt/conda/lib/python3.9/site-packages (from gensim) (1.20.3)\n"
     ]
    }
   ],
   "source": [
    "!pip install gensim"
   ]
  },
  {
   "cell_type": "code",
   "execution_count": 31,
   "id": "8c5b594e-66a4-445f-bc18-75725834ffa7",
   "metadata": {},
   "outputs": [],
   "source": [
    "from gensim import corpora, models\n",
    "import gensim"
   ]
  },
  {
   "cell_type": "code",
   "execution_count": 32,
   "id": "342e9710-659e-4af0-af9c-5293f5b4019d",
   "metadata": {},
   "outputs": [],
   "source": [
    "dictionary = corpora.Dictionary(listOfStemmedWords)"
   ]
  },
  {
   "cell_type": "code",
   "execution_count": 33,
   "id": "5f3a97fb-78ee-478c-b7e1-f51567e54826",
   "metadata": {},
   "outputs": [],
   "source": [
    "corpus = [dictionary.doc2bow(text) for text in listOfStemmedWords]"
   ]
  },
  {
   "cell_type": "code",
   "execution_count": 34,
   "id": "8c9f795e-d7ed-4d57-bb21-9c6c9289c04d",
   "metadata": {},
   "outputs": [],
   "source": [
    "ldamodel = gensim.models.ldamodel.LdaModel(corpus, \n",
    "                                           num_topics=2, \n",
    "                                           id2word=dictionary, \n",
    "                                           passes=20)"
   ]
  },
  {
   "cell_type": "code",
   "execution_count": 35,
   "id": "f4f84ae0-65a3-46fe-a767-2f3bf1749db2",
   "metadata": {},
   "outputs": [
    {
     "name": "stdout",
     "output_type": "stream",
     "text": [
      "(0, '0.022*\"film\" + 0.013*\"director\" + 0.010*\"anderson\" + 0.010*\"inarritu\" + 0.010*\"we\" + 0.007*\"watch\" + 0.007*\"creat\" + 0.007*\"alejandro\" + 0.007*\"birdman\" + 0.007*\"someth\" + 0.007*\"actor\" + 0.007*\"admir\" + 0.007*\"quirki\" + 0.007*\"new\" + 0.007*\"level\" + 0.007*\"style\" + 0.007*\"make\" + 0.007*\"best\" + 0.007*\"comedi\" + 0.007*\"stori\"')\n",
      "(1, '0.022*\"film\" + 0.015*\"also\" + 0.015*\"mad\" + 0.012*\"stori\" + 0.012*\"best\" + 0.009*\"direct\" + 0.009*\"fienn\" + 0.009*\"comedi\" + 0.009*\"like\" + 0.008*\"\\'birdman\" + 0.008*\"iñárritu\" + 0.008*\"cinematographi\" + 0.008*\"show\" + 0.008*\"back\" + 0.008*\"delight\" + 0.008*\"hilari\" + 0.008*\"director\" + 0.008*\"great\" + 0.008*\"intens\" + 0.005*\"charact\"')\n"
     ]
    }
   ],
   "source": [
    "for i in ldamodel.print_topics(num_topics=2, num_words=20):\n",
    "    print(i)"
   ]
  },
  {
   "cell_type": "markdown",
   "id": "aadf1aad-5fb5-462c-bdc1-025957b13953",
   "metadata": {},
   "source": [
    "Comment on the words that the model chooses to represent the 2 topics, and whether they match with your split between comedies and dramas"
   ]
  },
  {
   "cell_type": "markdown",
   "id": "9308e451-5e01-4cd1-bb2b-8a4e5fa1a042",
   "metadata": {},
   "source": [
    "The two topics that the model chooses to recommend do not necessarily correspond to the split between comedy and drama. They do not have a distinct divide of the two films. For example, the second topic includes both \"birdman\" and \"anderson,\" the name of the director of The Grand Budapest Hotel. Many of the words are neutral in terms of genre, such as \"film,\" \"best,\" \"director,\" \"actor,\" etc. For words that may exhibit traits of a specific genre like comedy, they are also not in one topic. For example, \"comedi\" is in topic 1 while \"hilari\" is in topic 2."
   ]
  }
 ],
 "metadata": {
  "kernelspec": {
   "display_name": "Python 3 (ipykernel)",
   "language": "python",
   "name": "python3"
  },
  "language_info": {
   "codemirror_mode": {
    "name": "ipython",
    "version": 3
   },
   "file_extension": ".py",
   "mimetype": "text/x-python",
   "name": "python",
   "nbconvert_exporter": "python",
   "pygments_lexer": "ipython3",
   "version": "3.9.6"
  }
 },
 "nbformat": 4,
 "nbformat_minor": 5
}
