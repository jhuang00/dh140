{
 "cells": [
  {
   "cell_type": "markdown",
   "id": "bb4f5554-efc9-460e-8254-995efb5f06ac",
   "metadata": {},
   "source": [
    "# Assignment 3"
   ]
  },
  {
   "cell_type": "markdown",
   "id": "77df600c-5f4a-4e18-bd2d-88551a4f1cc6",
   "metadata": {},
   "source": [
    "## Pandas and plotting exercises"
   ]
  },
  {
   "cell_type": "code",
   "execution_count": 1,
   "id": "f5e83735-8845-4afc-b79a-b0efe963d305",
   "metadata": {},
   "outputs": [],
   "source": [
    "# Import the pandas library\n",
    "\n",
    "import pandas as pd"
   ]
  },
  {
   "cell_type": "markdown",
   "id": "c4fe53d9-5776-45c6-b47d-9465a2888808",
   "metadata": {},
   "source": [
    "In Week 2, you used a dataset from the CORGIS website.  You may have used either the Python, CSV, or JSON data files.\n",
    "\n",
    "For this assignment, use the CSV file format for the same category of data that you used previously."
   ]
  },
  {
   "cell_type": "code",
   "execution_count": 2,
   "id": "c5850ef7-07fb-456c-9943-ba9e87cc0784",
   "metadata": {},
   "outputs": [],
   "source": [
    "# Use pandas read_csv function to import the data into a dataframe variable\n",
    "\n",
    "broadway_df = pd.read_csv('broadway.csv')"
   ]
  },
  {
   "cell_type": "code",
   "execution_count": 3,
   "id": "ab04825f-f9ba-49ae-bf40-322f4e2554a9",
   "metadata": {},
   "outputs": [
    {
     "data": {
      "text/plain": [
       "(31296, 12)"
      ]
     },
     "execution_count": 3,
     "metadata": {},
     "output_type": "execute_result"
    }
   ],
   "source": [
    "# How many rows and columns does the dataframe have?\n",
    "\n",
    "broadway_df.shape"
   ]
  },
  {
   "cell_type": "code",
   "execution_count": 4,
   "id": "ba84ad5d-585c-4415-b21f-c426ac3d6cc2",
   "metadata": {},
   "outputs": [
    {
     "name": "stdout",
     "output_type": "stream",
     "text": [
      "The dataframe has 31296 rows.\n",
      "The dataframe has 12 columns.\n"
     ]
    }
   ],
   "source": [
    "# no. of rows\n",
    "broadway_df_row_n = broadway_df.shape[0]\n",
    "print('The dataframe has ' + str(broadway_df_row_n) + ' rows.')\n",
    "# no. of columns\n",
    "broadway_df_col_n = broadway_df.shape[1]\n",
    "print('The dataframe has ' + str(broadway_df_col_n) + ' columns.')"
   ]
  },
  {
   "cell_type": "code",
   "execution_count": 5,
   "id": "e20a45fc-dfc0-4559-977b-d2b86e2f6534",
   "metadata": {},
   "outputs": [
    {
     "data": {
      "text/plain": [
       "Index(['Date.Day', 'Date.Full', 'Date.Month', 'Date.Year', 'Show.Name',\n",
       "       'Show.Theatre', 'Show.Type', 'Statistics.Attendance',\n",
       "       'Statistics.Capacity', 'Statistics.Gross', 'Statistics.Gross Potential',\n",
       "       'Statistics.Performances'],\n",
       "      dtype='object')"
      ]
     },
     "execution_count": 5,
     "metadata": {},
     "output_type": "execute_result"
    }
   ],
   "source": [
    "# What are the column names of the dataframe?\n",
    "\n",
    "broadway_df.columns"
   ]
  },
  {
   "cell_type": "code",
   "execution_count": 6,
   "id": "7a549f96-8e8e-456a-a219-096dcddb1fb8",
   "metadata": {},
   "outputs": [
    {
     "data": {
      "text/plain": [
       "Date.Day                       int64\n",
       "Date.Full                     object\n",
       "Date.Month                     int64\n",
       "Date.Year                      int64\n",
       "Show.Name                     object\n",
       "Show.Theatre                  object\n",
       "Show.Type                     object\n",
       "Statistics.Attendance          int64\n",
       "Statistics.Capacity            int64\n",
       "Statistics.Gross               int64\n",
       "Statistics.Gross Potential     int64\n",
       "Statistics.Performances        int64\n",
       "dtype: object"
      ]
     },
     "execution_count": 6,
     "metadata": {},
     "output_type": "execute_result"
    }
   ],
   "source": [
    "# What are the datatypes of each column?\n",
    "\n",
    "broadway_df.dtypes"
   ]
  },
  {
   "cell_type": "code",
   "execution_count": 7,
   "id": "51471321-443e-4b23-846e-54630d29af29",
   "metadata": {},
   "outputs": [
    {
     "data": {
      "text/html": [
       "<div>\n",
       "<style scoped>\n",
       "    .dataframe tbody tr th:only-of-type {\n",
       "        vertical-align: middle;\n",
       "    }\n",
       "\n",
       "    .dataframe tbody tr th {\n",
       "        vertical-align: top;\n",
       "    }\n",
       "\n",
       "    .dataframe thead th {\n",
       "        text-align: right;\n",
       "    }\n",
       "</style>\n",
       "<table border=\"1\" class=\"dataframe\">\n",
       "  <thead>\n",
       "    <tr style=\"text-align: right;\">\n",
       "      <th></th>\n",
       "      <th>Date.Day</th>\n",
       "      <th>Date.Full</th>\n",
       "      <th>Date.Month</th>\n",
       "      <th>Date.Year</th>\n",
       "      <th>Show.Name</th>\n",
       "      <th>Show.Theatre</th>\n",
       "      <th>Show.Type</th>\n",
       "      <th>Statistics.Attendance</th>\n",
       "      <th>Statistics.Capacity</th>\n",
       "      <th>Statistics.Gross</th>\n",
       "      <th>Statistics.Gross Potential</th>\n",
       "      <th>Statistics.Performances</th>\n",
       "    </tr>\n",
       "  </thead>\n",
       "  <tbody>\n",
       "    <tr>\n",
       "      <th>0</th>\n",
       "      <td>26</td>\n",
       "      <td>8/26/1990</td>\n",
       "      <td>8</td>\n",
       "      <td>1990</td>\n",
       "      <td>Tru</td>\n",
       "      <td>Booth</td>\n",
       "      <td>Play</td>\n",
       "      <td>5500</td>\n",
       "      <td>88</td>\n",
       "      <td>134456</td>\n",
       "      <td>0</td>\n",
       "      <td>8</td>\n",
       "    </tr>\n",
       "    <tr>\n",
       "      <th>1</th>\n",
       "      <td>24</td>\n",
       "      <td>3/24/1991</td>\n",
       "      <td>3</td>\n",
       "      <td>1991</td>\n",
       "      <td>Miss Saigon</td>\n",
       "      <td>Broadway</td>\n",
       "      <td>Musical</td>\n",
       "      <td>1737</td>\n",
       "      <td>100</td>\n",
       "      <td>100647</td>\n",
       "      <td>0</td>\n",
       "      <td>0</td>\n",
       "    </tr>\n",
       "  </tbody>\n",
       "</table>\n",
       "</div>"
      ],
      "text/plain": [
       "   Date.Day  Date.Full  Date.Month  Date.Year    Show.Name Show.Theatre  \\\n",
       "0        26  8/26/1990           8       1990          Tru        Booth   \n",
       "1        24  3/24/1991           3       1991  Miss Saigon     Broadway   \n",
       "\n",
       "  Show.Type  Statistics.Attendance  Statistics.Capacity  Statistics.Gross  \\\n",
       "0      Play                   5500                   88            134456   \n",
       "1   Musical                   1737                  100            100647   \n",
       "\n",
       "   Statistics.Gross Potential  Statistics.Performances  \n",
       "0                           0                        8  \n",
       "1                           0                        0  "
      ]
     },
     "execution_count": 7,
     "metadata": {},
     "output_type": "execute_result"
    }
   ],
   "source": [
    "# Look at the first 2 rows of the dataframe\n",
    "\n",
    "broadway_df.head(2)"
   ]
  },
  {
   "cell_type": "code",
   "execution_count": 8,
   "id": "f0206392-0e77-497c-8394-ad3e229a83ab",
   "metadata": {},
   "outputs": [
    {
     "data": {
      "text/html": [
       "<div>\n",
       "<style scoped>\n",
       "    .dataframe tbody tr th:only-of-type {\n",
       "        vertical-align: middle;\n",
       "    }\n",
       "\n",
       "    .dataframe tbody tr th {\n",
       "        vertical-align: top;\n",
       "    }\n",
       "\n",
       "    .dataframe thead th {\n",
       "        text-align: right;\n",
       "    }\n",
       "</style>\n",
       "<table border=\"1\" class=\"dataframe\">\n",
       "  <thead>\n",
       "    <tr style=\"text-align: right;\">\n",
       "      <th></th>\n",
       "      <th>Date.Day</th>\n",
       "      <th>Date.Full</th>\n",
       "      <th>Date.Month</th>\n",
       "      <th>Date.Year</th>\n",
       "      <th>Show.Name</th>\n",
       "      <th>Show.Theatre</th>\n",
       "      <th>Show.Type</th>\n",
       "      <th>Statistics.Attendance</th>\n",
       "      <th>Statistics.Capacity</th>\n",
       "      <th>Statistics.Gross</th>\n",
       "      <th>Statistics.Gross Potential</th>\n",
       "      <th>Statistics.Performances</th>\n",
       "    </tr>\n",
       "  </thead>\n",
       "  <tbody>\n",
       "    <tr>\n",
       "      <th>31294</th>\n",
       "      <td>14</td>\n",
       "      <td>8/14/2016</td>\n",
       "      <td>8</td>\n",
       "      <td>2016</td>\n",
       "      <td>Waitress</td>\n",
       "      <td>Brooks Atkinson</td>\n",
       "      <td>Musical</td>\n",
       "      <td>8058</td>\n",
       "      <td>96</td>\n",
       "      <td>990128</td>\n",
       "      <td>97</td>\n",
       "      <td>8</td>\n",
       "    </tr>\n",
       "    <tr>\n",
       "      <th>31295</th>\n",
       "      <td>14</td>\n",
       "      <td>8/14/2016</td>\n",
       "      <td>8</td>\n",
       "      <td>2016</td>\n",
       "      <td>Wicked</td>\n",
       "      <td>Gershwin</td>\n",
       "      <td>Musical</td>\n",
       "      <td>13804</td>\n",
       "      <td>95</td>\n",
       "      <td>1779664</td>\n",
       "      <td>100</td>\n",
       "      <td>8</td>\n",
       "    </tr>\n",
       "  </tbody>\n",
       "</table>\n",
       "</div>"
      ],
      "text/plain": [
       "       Date.Day  Date.Full  Date.Month  Date.Year Show.Name     Show.Theatre  \\\n",
       "31294        14  8/14/2016           8       2016  Waitress  Brooks Atkinson   \n",
       "31295        14  8/14/2016           8       2016    Wicked         Gershwin   \n",
       "\n",
       "      Show.Type  Statistics.Attendance  Statistics.Capacity  Statistics.Gross  \\\n",
       "31294   Musical                   8058                   96            990128   \n",
       "31295   Musical                  13804                   95           1779664   \n",
       "\n",
       "       Statistics.Gross Potential  Statistics.Performances  \n",
       "31294                          97                        8  \n",
       "31295                         100                        8  "
      ]
     },
     "execution_count": 8,
     "metadata": {},
     "output_type": "execute_result"
    }
   ],
   "source": [
    "# Look at the last 2 rows of the dataframe\n",
    "\n",
    "broadway_df.tail(2)"
   ]
  },
  {
   "cell_type": "code",
   "execution_count": 9,
   "id": "e87824ad-9ff4-487d-8506-00d940083ae0",
   "metadata": {},
   "outputs": [
    {
     "data": {
      "text/html": [
       "<div>\n",
       "<style scoped>\n",
       "    .dataframe tbody tr th:only-of-type {\n",
       "        vertical-align: middle;\n",
       "    }\n",
       "\n",
       "    .dataframe tbody tr th {\n",
       "        vertical-align: top;\n",
       "    }\n",
       "\n",
       "    .dataframe thead th {\n",
       "        text-align: right;\n",
       "    }\n",
       "</style>\n",
       "<table border=\"1\" class=\"dataframe\">\n",
       "  <thead>\n",
       "    <tr style=\"text-align: right;\">\n",
       "      <th></th>\n",
       "      <th>Date.Day</th>\n",
       "      <th>Date.Month</th>\n",
       "      <th>Date.Year</th>\n",
       "      <th>Statistics.Attendance</th>\n",
       "      <th>Statistics.Capacity</th>\n",
       "      <th>Statistics.Gross</th>\n",
       "      <th>Statistics.Gross Potential</th>\n",
       "      <th>Statistics.Performances</th>\n",
       "    </tr>\n",
       "  </thead>\n",
       "  <tbody>\n",
       "    <tr>\n",
       "      <th>count</th>\n",
       "      <td>31296.000000</td>\n",
       "      <td>31296.000000</td>\n",
       "      <td>31296.000000</td>\n",
       "      <td>31296.000000</td>\n",
       "      <td>31296.000000</td>\n",
       "      <td>3.129600e+04</td>\n",
       "      <td>31296.000000</td>\n",
       "      <td>31296.000000</td>\n",
       "    </tr>\n",
       "    <tr>\n",
       "      <th>mean</th>\n",
       "      <td>15.720859</td>\n",
       "      <td>6.509043</td>\n",
       "      <td>2005.875128</td>\n",
       "      <td>8010.523006</td>\n",
       "      <td>80.738912</td>\n",
       "      <td>5.960688e+05</td>\n",
       "      <td>62.404045</td>\n",
       "      <td>7.224821</td>\n",
       "    </tr>\n",
       "    <tr>\n",
       "      <th>std</th>\n",
       "      <td>8.817000</td>\n",
       "      <td>3.430321</td>\n",
       "      <td>6.100118</td>\n",
       "      <td>3189.873933</td>\n",
       "      <td>18.842815</td>\n",
       "      <td>3.809796e+05</td>\n",
       "      <td>28.714589</td>\n",
       "      <td>2.235376</td>\n",
       "    </tr>\n",
       "    <tr>\n",
       "      <th>min</th>\n",
       "      <td>1.000000</td>\n",
       "      <td>1.000000</td>\n",
       "      <td>1990.000000</td>\n",
       "      <td>24.000000</td>\n",
       "      <td>10.000000</td>\n",
       "      <td>1.037000e+03</td>\n",
       "      <td>0.000000</td>\n",
       "      <td>0.000000</td>\n",
       "    </tr>\n",
       "    <tr>\n",
       "      <th>25%</th>\n",
       "      <td>8.000000</td>\n",
       "      <td>4.000000</td>\n",
       "      <td>2001.000000</td>\n",
       "      <td>5508.000000</td>\n",
       "      <td>70.000000</td>\n",
       "      <td>3.201085e+05</td>\n",
       "      <td>45.000000</td>\n",
       "      <td>8.000000</td>\n",
       "    </tr>\n",
       "    <tr>\n",
       "      <th>50%</th>\n",
       "      <td>16.000000</td>\n",
       "      <td>6.000000</td>\n",
       "      <td>2006.000000</td>\n",
       "      <td>7801.500000</td>\n",
       "      <td>83.000000</td>\n",
       "      <td>5.145200e+05</td>\n",
       "      <td>63.000000</td>\n",
       "      <td>8.000000</td>\n",
       "    </tr>\n",
       "    <tr>\n",
       "      <th>75%</th>\n",
       "      <td>23.000000</td>\n",
       "      <td>10.000000</td>\n",
       "      <td>2011.000000</td>\n",
       "      <td>10348.000000</td>\n",
       "      <td>95.000000</td>\n",
       "      <td>7.852690e+05</td>\n",
       "      <td>82.000000</td>\n",
       "      <td>8.000000</td>\n",
       "    </tr>\n",
       "    <tr>\n",
       "      <th>max</th>\n",
       "      <td>31.000000</td>\n",
       "      <td>12.000000</td>\n",
       "      <td>2016.000000</td>\n",
       "      <td>21631.000000</td>\n",
       "      <td>892.000000</td>\n",
       "      <td>3.201333e+06</td>\n",
       "      <td>226.000000</td>\n",
       "      <td>16.000000</td>\n",
       "    </tr>\n",
       "  </tbody>\n",
       "</table>\n",
       "</div>"
      ],
      "text/plain": [
       "           Date.Day    Date.Month     Date.Year  Statistics.Attendance  \\\n",
       "count  31296.000000  31296.000000  31296.000000           31296.000000   \n",
       "mean      15.720859      6.509043   2005.875128            8010.523006   \n",
       "std        8.817000      3.430321      6.100118            3189.873933   \n",
       "min        1.000000      1.000000   1990.000000              24.000000   \n",
       "25%        8.000000      4.000000   2001.000000            5508.000000   \n",
       "50%       16.000000      6.000000   2006.000000            7801.500000   \n",
       "75%       23.000000     10.000000   2011.000000           10348.000000   \n",
       "max       31.000000     12.000000   2016.000000           21631.000000   \n",
       "\n",
       "       Statistics.Capacity  Statistics.Gross  Statistics.Gross Potential  \\\n",
       "count         31296.000000      3.129600e+04                31296.000000   \n",
       "mean             80.738912      5.960688e+05                   62.404045   \n",
       "std              18.842815      3.809796e+05                   28.714589   \n",
       "min              10.000000      1.037000e+03                    0.000000   \n",
       "25%              70.000000      3.201085e+05                   45.000000   \n",
       "50%              83.000000      5.145200e+05                   63.000000   \n",
       "75%              95.000000      7.852690e+05                   82.000000   \n",
       "max             892.000000      3.201333e+06                  226.000000   \n",
       "\n",
       "       Statistics.Performances  \n",
       "count             31296.000000  \n",
       "mean                  7.224821  \n",
       "std                   2.235376  \n",
       "min                   0.000000  \n",
       "25%                   8.000000  \n",
       "50%                   8.000000  \n",
       "75%                   8.000000  \n",
       "max                  16.000000  "
      ]
     },
     "execution_count": 9,
     "metadata": {},
     "output_type": "execute_result"
    }
   ],
   "source": [
    "# Print out summary statistics about the dataframe\n",
    "\n",
    "broadway_df.describe()"
   ]
  },
  {
   "cell_type": "code",
   "execution_count": 10,
   "id": "9b5dfabd-61b3-4cda-80d4-7a20444afa25",
   "metadata": {},
   "outputs": [
    {
     "data": {
      "text/plain": [
       "0                             Tru\n",
       "1                     Miss Saigon\n",
       "2                     Miss Saigon\n",
       "3                     Miss Saigon\n",
       "4                     Miss Saigon\n",
       "                   ...           \n",
       "31291                  The Humans\n",
       "31292               The Lion King\n",
       "31293    The Phantom Of The Opera\n",
       "31294                    Waitress\n",
       "31295                      Wicked\n",
       "Name: Show.Name, Length: 31296, dtype: object"
      ]
     },
     "execution_count": 10,
     "metadata": {},
     "output_type": "execute_result"
    }
   ],
   "source": [
    "# Choose a column and print out the column (it's ok if the output is abbreviated)\n",
    "\n",
    "broadway_df['Show.Name']"
   ]
  },
  {
   "cell_type": "code",
   "execution_count": 11,
   "id": "0c5e2c07-0dff-4e78-bbb7-8faef3fdf758",
   "metadata": {},
   "outputs": [
    {
     "data": {
      "text/plain": [
       "<AxesSubplot:>"
      ]
     },
     "execution_count": 11,
     "metadata": {},
     "output_type": "execute_result"
    },
    {
     "data": {
      "image/png": "[encoded data removed]",
      "text/plain": [
       "<Figure size 432x288 with 1 Axes>"
      ]
     },
     "metadata": {
      "needs_background": "light"
     },
     "output_type": "display_data"
    }
   ],
   "source": [
    "# Choose a column that has numeric values and make a line plot of the values\n",
    "\n",
    "broadway_df['Statistics.Attendance'].plot()"
   ]
  },
  {
   "cell_type": "code",
   "execution_count": 12,
   "id": "6e7c7f92-3b6c-4cd0-a9ef-6356cb4c2ca5",
   "metadata": {},
   "outputs": [
    {
     "data": {
      "text/html": [
       "<div>\n",
       "<style scoped>\n",
       "    .dataframe tbody tr th:only-of-type {\n",
       "        vertical-align: middle;\n",
       "    }\n",
       "\n",
       "    .dataframe tbody tr th {\n",
       "        vertical-align: top;\n",
       "    }\n",
       "\n",
       "    .dataframe thead th {\n",
       "        text-align: right;\n",
       "    }\n",
       "</style>\n",
       "<table border=\"1\" class=\"dataframe\">\n",
       "  <thead>\n",
       "    <tr style=\"text-align: right;\">\n",
       "      <th></th>\n",
       "      <th>Statistics.Attendance</th>\n",
       "    </tr>\n",
       "  </thead>\n",
       "  <tbody>\n",
       "    <tr>\n",
       "      <th>0</th>\n",
       "      <td>5500</td>\n",
       "    </tr>\n",
       "    <tr>\n",
       "      <th>1</th>\n",
       "      <td>1737</td>\n",
       "    </tr>\n",
       "    <tr>\n",
       "      <th>2</th>\n",
       "      <td>12160</td>\n",
       "    </tr>\n",
       "    <tr>\n",
       "      <th>3</th>\n",
       "      <td>13921</td>\n",
       "    </tr>\n",
       "    <tr>\n",
       "      <th>4</th>\n",
       "      <td>10973</td>\n",
       "    </tr>\n",
       "    <tr>\n",
       "      <th>5</th>\n",
       "      <td>14076</td>\n",
       "    </tr>\n",
       "    <tr>\n",
       "      <th>6</th>\n",
       "      <td>14065</td>\n",
       "    </tr>\n",
       "    <tr>\n",
       "      <th>7</th>\n",
       "      <td>14064</td>\n",
       "    </tr>\n",
       "    <tr>\n",
       "      <th>8</th>\n",
       "      <td>13896</td>\n",
       "    </tr>\n",
       "    <tr>\n",
       "      <th>9</th>\n",
       "      <td>13738</td>\n",
       "    </tr>\n",
       "  </tbody>\n",
       "</table>\n",
       "</div>"
      ],
      "text/plain": [
       "   Statistics.Attendance\n",
       "0                   5500\n",
       "1                   1737\n",
       "2                  12160\n",
       "3                  13921\n",
       "4                  10973\n",
       "5                  14076\n",
       "6                  14065\n",
       "7                  14064\n",
       "8                  13896\n",
       "9                  13738"
      ]
     },
     "execution_count": 12,
     "metadata": {},
     "output_type": "execute_result"
    }
   ],
   "source": [
    "# Use \"loc\" to print out the first 10 elements of the plotted column\n",
    "\n",
    "broadway_df.loc[0:9,['Statistics.Attendance']]"
   ]
  },
  {
   "cell_type": "code",
   "execution_count": 13,
   "id": "3a7b0251-f9e3-4f81-858d-d6c1c2b41e2d",
   "metadata": {},
   "outputs": [
    {
     "data": {
      "text/html": [
       "<div>\n",
       "<style scoped>\n",
       "    .dataframe tbody tr th:only-of-type {\n",
       "        vertical-align: middle;\n",
       "    }\n",
       "\n",
       "    .dataframe tbody tr th {\n",
       "        vertical-align: top;\n",
       "    }\n",
       "\n",
       "    .dataframe thead th {\n",
       "        text-align: right;\n",
       "    }\n",
       "</style>\n",
       "<table border=\"1\" class=\"dataframe\">\n",
       "  <thead>\n",
       "    <tr style=\"text-align: right;\">\n",
       "      <th></th>\n",
       "      <th>Statistics.Attendance</th>\n",
       "      <th>Show.Theatre</th>\n",
       "    </tr>\n",
       "  </thead>\n",
       "  <tbody>\n",
       "    <tr>\n",
       "      <th>0</th>\n",
       "      <td>5500</td>\n",
       "      <td>Booth</td>\n",
       "    </tr>\n",
       "    <tr>\n",
       "      <th>1</th>\n",
       "      <td>1737</td>\n",
       "      <td>Broadway</td>\n",
       "    </tr>\n",
       "    <tr>\n",
       "      <th>2</th>\n",
       "      <td>12160</td>\n",
       "      <td>Broadway</td>\n",
       "    </tr>\n",
       "    <tr>\n",
       "      <th>3</th>\n",
       "      <td>13921</td>\n",
       "      <td>Broadway</td>\n",
       "    </tr>\n",
       "    <tr>\n",
       "      <th>4</th>\n",
       "      <td>10973</td>\n",
       "      <td>Broadway</td>\n",
       "    </tr>\n",
       "    <tr>\n",
       "      <th>5</th>\n",
       "      <td>14076</td>\n",
       "      <td>Broadway</td>\n",
       "    </tr>\n",
       "    <tr>\n",
       "      <th>6</th>\n",
       "      <td>14065</td>\n",
       "      <td>Broadway</td>\n",
       "    </tr>\n",
       "    <tr>\n",
       "      <th>7</th>\n",
       "      <td>14064</td>\n",
       "      <td>Broadway</td>\n",
       "    </tr>\n",
       "    <tr>\n",
       "      <th>8</th>\n",
       "      <td>13896</td>\n",
       "      <td>Broadway</td>\n",
       "    </tr>\n",
       "    <tr>\n",
       "      <th>9</th>\n",
       "      <td>13738</td>\n",
       "      <td>Broadway</td>\n",
       "    </tr>\n",
       "  </tbody>\n",
       "</table>\n",
       "</div>"
      ],
      "text/plain": [
       "   Statistics.Attendance Show.Theatre\n",
       "0                   5500        Booth\n",
       "1                   1737     Broadway\n",
       "2                  12160     Broadway\n",
       "3                  13921     Broadway\n",
       "4                  10973     Broadway\n",
       "5                  14076     Broadway\n",
       "6                  14065     Broadway\n",
       "7                  14064     Broadway\n",
       "8                  13896     Broadway\n",
       "9                  13738     Broadway"
      ]
     },
     "execution_count": 13,
     "metadata": {},
     "output_type": "execute_result"
    }
   ],
   "source": [
    "# Use \"loc\" to print out the first 10 elements of the plotted column\n",
    "# as well as the matching 10 elements of a different column that has interesting text\n",
    "\n",
    "broadway_df.loc[0:9,['Statistics.Attendance','Show.Theatre']]"
   ]
  },
  {
   "cell_type": "code",
   "execution_count": 14,
   "id": "e2b2a59b-4246-40cc-b5de-728bd678b832",
   "metadata": {},
   "outputs": [
    {
     "data": {
      "text/plain": [
       "<AxesSubplot:xlabel='Show.Theatre'>"
      ]
     },
     "execution_count": 14,
     "metadata": {},
     "output_type": "execute_result"
    },
    {
     "data": {
      "image/png": "[encoded data removed]",
      "text/plain": [
       "<Figure size 432x288 with 1 Axes>"
      ]
     },
     "metadata": {
      "needs_background": "light"
     },
     "output_type": "display_data"
    }
   ],
   "source": [
    "# Assign the dataframe values from the previous cell into a new dataframe variable\n",
    "# and make a bar plot with the text values horizontally and the numeric values as the bar heights\n",
    "\n",
    "attendance = []\n",
    "theatre = []\n",
    "for i in range(0,10):\n",
    "    attendance.append(broadway_df.loc[i,'Statistics.Attendance'])\n",
    "    theatre.append(broadway_df.loc[i,'Show.Theatre'])\n",
    "\n",
    "broadway_dict_small = {'Statistics.Attendance':attendance,\n",
    "                       'Show.Theatre':theatre\n",
    "                      }\n",
    "\n",
    "broadway_df_small = pd.DataFrame(broadway_dict_small)\n",
    "\n",
    "# make bar plot\n",
    "broadway_df_small.plot(kind='bar', x='Show.Theatre', y='Statistics.Attendance')"
   ]
  },
  {
   "cell_type": "code",
   "execution_count": 15,
   "id": "46120796-845a-49b3-997f-b44825e375ea",
   "metadata": {},
   "outputs": [
    {
     "data": {
      "text/plain": [
       "<AxesSubplot:ylabel='Show.Theatre'>"
      ]
     },
     "execution_count": 15,
     "metadata": {},
     "output_type": "execute_result"
    },
    {
     "data": {
      "image/png": "[encoded data removed]",
      "text/plain": [
       "<Figure size 432x288 with 1 Axes>"
      ]
     },
     "metadata": {
      "needs_background": "light"
     },
     "output_type": "display_data"
    }
   ],
   "source": [
    "# Re-do the plot from the previous cell as a horizontal bar plot\n",
    "\n",
    "broadway_df_small.plot(kind='barh', x='Show.Theatre', y='Statistics.Attendance')"
   ]
  },
  {
   "cell_type": "code",
   "execution_count": 16,
   "id": "c8273eab-a2d6-445a-a92d-869375b82428",
   "metadata": {},
   "outputs": [
    {
     "data": {
      "text/plain": [
       "Text(0, 0.5, 'Theatre of the show')"
      ]
     },
     "execution_count": 16,
     "metadata": {},
     "output_type": "execute_result"
    },
    {
     "data": {
      "image/png": "[encoded data removed]",
      "text/plain": [
       "<Figure size 864x360 with 1 Axes>"
      ]
     },
     "metadata": {
      "needs_background": "light"
     },
     "output_type": "display_data"
    }
   ],
   "source": [
    "# Re-do the plot from the previous cell\n",
    "# and change at least two aesthetic elements (colors, labels, titles, ...)\n",
    "\n",
    "broadway_plot_small = broadway_df_small.plot(kind='barh', x='Show.Theatre', y='Statistics.Attendance', \n",
    "                                             figsize=(12,5), color='coral')\n",
    "broadway_plot_small.set_xlabel('Attendance of the show',fontsize=14)\n",
    "broadway_plot_small.set_ylabel('Theatre of the show',fontsize=14)"
   ]
  },
  {
   "cell_type": "markdown",
   "id": "48245e7e-c7b9-43ee-a8e2-d66502b899fc",
   "metadata": {},
   "source": [
    "# Free form section"
   ]
  },
  {
   "cell_type": "markdown",
   "id": "66503e37-f96a-4a25-aaf6-c7d8b9f8cbdd",
   "metadata": {},
   "source": [
    "* Choose another type of plot that interests you from the [pandas.DataFrame.plot documentation](https://pandas.pydata.org/docs/reference/api/pandas.DataFrame.plot.html#) [look at the 'kind' parameter] and make a new plot of your dataset values using the plot type"
   ]
  },
  {
   "cell_type": "code",
   "execution_count": 118,
   "id": "953fec2d-63f1-4479-b505-c592b88cd6f0",
   "metadata": {},
   "outputs": [
    {
     "data": {
      "text/plain": [
       "<AxesSubplot:xlabel='Statistics.Capacity', ylabel='Statistics.Attendance'>"
      ]
     },
     "execution_count": 118,
     "metadata": {},
     "output_type": "execute_result"
    },
    {
     "data": {
      "image/png": "[encoded data removed]",
      "text/plain": [
       "<Figure size 432x288 with 1 Axes>"
      ]
     },
     "metadata": {
      "needs_background": "light"
     },
     "output_type": "display_data"
    }
   ],
   "source": [
    "# scatter plot\n",
    "broadway_df.groupby('Date.Year').mean().plot(kind='scatter', x='Statistics.Capacity', y='Statistics.Attendance')"
   ]
  },
  {
   "cell_type": "markdown",
   "id": "6eb40e90-d302-49d1-a8a3-ed406d9b984d",
   "metadata": {},
   "source": [
    "* Copy some of your analysis from the Week 2 assignment into new cells below\n",
    "* Clean them up if desired, and make sure that you translate them to work with your new pandas dataframe structure here if needed\n",
    "* Create several plots to complement and extend your analysis"
   ]
  },
  {
   "cell_type": "code",
   "execution_count": 119,
   "id": "7d756a6d-3b15-48c0-b4ee-2a8772506dd2",
   "metadata": {},
   "outputs": [
    {
     "name": "stdout",
     "output_type": "stream",
     "text": [
      "On 4/25/1999, The Lonesome West was performed in Lyceum\n",
      "On 4/25/1999, The Phantom Of The Opera was performed in Majestic\n",
      "On 4/25/1999, The Scarlet Pimpernel was performed in Minskoff\n",
      "On 4/25/1999, The Sound Of Music was performed in Martin Beck\n",
      "On 4/25/1999, The Weir was performed in Walter Kerr\n",
      "On 4/25/1999, Via Dolorosa was performed in Booth\n",
      "On 4/25/1999, You'Re A Good Man, Charlie Brown was performed in Ambassador\n",
      "On 5/2/1999, Amy'S View was performed in Ethel Barrymore\n",
      "On 5/2/1999, Annie Get Your Gun was performed in Marquis\n",
      "On 5/2/1999, Art was performed in Royale\n",
      "On 5/2/1999, Beauty And The Beast was performed in Palace\n",
      "On 5/2/1999, Cabaret 98 was performed in Studio 54 ('98)\n",
      "On 5/2/1999, Cats was performed in Winter Garden\n",
      "On 5/2/1999, Chicago was performed in Shubert\n",
      "On 5/2/1999, Closer was performed in Music Box\n",
      "On 5/2/1999, Death Of A Salesman 99 was performed in Eugene O'Neill\n",
      "On 5/2/1999, Footloose was performed in Richard Rodgers\n",
      "On 5/2/1999, Fosse was performed in Broadhurst\n",
      "On 5/2/1999, It Ain'T Nothin' But The Blues was performed in Vivian Beaumont\n",
      "On 5/2/1999, Jekyll & Hyde was performed in Plymouth\n"
     ]
    }
   ],
   "source": [
    "# print Broadway productions each week with name and attendance\n",
    "# take rows 5010:5030 for demonstration\n",
    "for index,row in broadway_df[5010:5030].iterrows():\n",
    "    print('On '+ str(row['Date.Full']) + ', ' + str(row['Show.Name']) + ' was performed in ' + str(row['Show.Theatre']))"
   ]
  },
  {
   "cell_type": "code",
   "execution_count": 120,
   "id": "9c01e638-e73a-46fa-98b0-1087f511e906",
   "metadata": {},
   "outputs": [
    {
     "name": "stdout",
     "output_type": "stream",
     "text": [
      "For 8/26/1990, the average number of people who attended performances over the week was 687.5.\n",
      "For 3/24/1991, there was no performance for the week.\n",
      "For 3/31/1991, there was no performance for the week.\n",
      "For 4/7/1991, there was no performance for the week.\n",
      "For 4/14/1991, the average number of people who attended performances over the week was 2743.25.\n",
      "For 4/21/1991, the average number of people who attended performances over the week was 1759.5.\n",
      "For 4/28/1991, the average number of people who attended performances over the week was 1758.125.\n",
      "For 5/5/1991, the average number of people who attended performances over the week was 1758.0.\n",
      "For 5/12/1991, the average number of people who attended performances over the week was 1737.0.\n",
      "For 5/19/1991, the average number of people who attended performances over the week was 1717.25.\n",
      "For 5/26/1991, the average number of people who attended performances over the week was 1737.125.\n",
      "For 6/2/1991, the average number of people who attended performances over the week was 1752.0.\n",
      "For 6/9/1991, the average number of people who attended performances over the week was 1761.0.\n",
      "For 6/16/1991, the average number of people who attended performances over the week was 1761.0.\n",
      "For 6/23/1991, the average number of people who attended performances over the week was 1761.0.\n",
      "For 6/30/1991, the average number of people who attended performances over the week was 1761.0.\n",
      "For 7/7/1991, the average number of people who attended performances over the week was 1761.0.\n",
      "For 7/14/1991, the average number of people who attended performances over the week was 1760.5.\n",
      "For 7/21/1991, the average number of people who attended performances over the week was 1761.0.\n",
      "For 7/28/1991, the average number of people who attended performances over the week was 1761.0.\n"
     ]
    }
   ],
   "source": [
    "# print average attendance for Broadway productions over the week\n",
    "# take rows 0:20 for demonstration\n",
    "for index,row in broadway_df[0:20].iterrows():\n",
    "    # if performance is not 0 for the week\n",
    "    if row['Statistics.Performances'] != 0:\n",
    "        # print the average attendance\n",
    "        print('For ' + str(row['Date.Full']) + ', the average number of people who attended performances over the week was ' + str(row['Statistics.Attendance']/row['Statistics.Performances']) + '.')\n",
    "    # else if performance is 0\n",
    "    else:\n",
    "        # print 'there is no performance'\n",
    "        print('For ' + str(row['Date.Full']) + ', there was no performance for the week.')"
   ]
  },
  {
   "cell_type": "code",
   "execution_count": 121,
   "id": "f9136a31-811f-4cc3-8827-892b23082fbc",
   "metadata": {},
   "outputs": [],
   "source": [
    "# group data by year\n",
    "by_year = broadway_df.groupby('Date.Year')\n",
    "year = range(1990, 2017)"
   ]
  },
  {
   "cell_type": "code",
   "execution_count": 122,
   "id": "c4a9c1f1-99c2-4f69-8682-5aa2d90cc65c",
   "metadata": {},
   "outputs": [],
   "source": [
    "# get average attendance for each year\n",
    "attendance_y = []\n",
    "for i in year:\n",
    "    attendance_y.append(by_year.get_group(i)['Statistics.Attendance'].mean())"
   ]
  },
  {
   "cell_type": "code",
   "execution_count": 123,
   "id": "7d46a613-e8fe-40f2-b999-2bec9a18b052",
   "metadata": {},
   "outputs": [],
   "source": [
    "# create dataframe\n",
    "attendance_year_dict = {'Date.Year':year,\n",
    "                        'Statistics.Attendance':attendance_y\n",
    "                      }\n",
    "attendance_year_df = pd.DataFrame(attendance_year_dict)"
   ]
  },
  {
   "cell_type": "code",
   "execution_count": 125,
   "id": "f34b39ce-aa90-4e72-a7e1-52855841ba1f",
   "metadata": {},
   "outputs": [
    {
     "data": {
      "text/html": [
       "<div>\n",
       "<style scoped>\n",
       "    .dataframe tbody tr th:only-of-type {\n",
       "        vertical-align: middle;\n",
       "    }\n",
       "\n",
       "    .dataframe tbody tr th {\n",
       "        vertical-align: top;\n",
       "    }\n",
       "\n",
       "    .dataframe thead th {\n",
       "        text-align: right;\n",
       "    }\n",
       "</style>\n",
       "<table border=\"1\" class=\"dataframe\">\n",
       "  <thead>\n",
       "    <tr style=\"text-align: right;\">\n",
       "      <th></th>\n",
       "      <th>Date.Year</th>\n",
       "      <th>Statistics.Attendance</th>\n",
       "    </tr>\n",
       "  </thead>\n",
       "  <tbody>\n",
       "    <tr>\n",
       "      <th>0</th>\n",
       "      <td>1990</td>\n",
       "      <td>5500.000000</td>\n",
       "    </tr>\n",
       "    <tr>\n",
       "      <th>1</th>\n",
       "      <td>1991</td>\n",
       "      <td>13638.512195</td>\n",
       "    </tr>\n",
       "    <tr>\n",
       "      <th>2</th>\n",
       "      <td>1992</td>\n",
       "      <td>11737.109589</td>\n",
       "    </tr>\n",
       "    <tr>\n",
       "      <th>3</th>\n",
       "      <td>1993</td>\n",
       "      <td>10934.178947</td>\n",
       "    </tr>\n",
       "    <tr>\n",
       "      <th>4</th>\n",
       "      <td>1994</td>\n",
       "      <td>10625.095808</td>\n",
       "    </tr>\n",
       "    <tr>\n",
       "      <th>5</th>\n",
       "      <td>1995</td>\n",
       "      <td>9689.257908</td>\n",
       "    </tr>\n",
       "    <tr>\n",
       "      <th>6</th>\n",
       "      <td>1996</td>\n",
       "      <td>7898.931071</td>\n",
       "    </tr>\n",
       "    <tr>\n",
       "      <th>7</th>\n",
       "      <td>1997</td>\n",
       "      <td>7878.449254</td>\n",
       "    </tr>\n",
       "    <tr>\n",
       "      <th>8</th>\n",
       "      <td>1998</td>\n",
       "      <td>8062.668286</td>\n",
       "    </tr>\n",
       "    <tr>\n",
       "      <th>9</th>\n",
       "      <td>1999</td>\n",
       "      <td>7848.025921</td>\n",
       "    </tr>\n",
       "    <tr>\n",
       "      <th>10</th>\n",
       "      <td>2000</td>\n",
       "      <td>8039.936352</td>\n",
       "    </tr>\n",
       "    <tr>\n",
       "      <th>11</th>\n",
       "      <td>2001</td>\n",
       "      <td>7785.526676</td>\n",
       "    </tr>\n",
       "    <tr>\n",
       "      <th>12</th>\n",
       "      <td>2002</td>\n",
       "      <td>7566.053785</td>\n",
       "    </tr>\n",
       "    <tr>\n",
       "      <th>13</th>\n",
       "      <td>2003</td>\n",
       "      <td>7610.702610</td>\n",
       "    </tr>\n",
       "    <tr>\n",
       "      <th>14</th>\n",
       "      <td>2004</td>\n",
       "      <td>7792.246217</td>\n",
       "    </tr>\n",
       "    <tr>\n",
       "      <th>15</th>\n",
       "      <td>2005</td>\n",
       "      <td>7899.488786</td>\n",
       "    </tr>\n",
       "    <tr>\n",
       "      <th>16</th>\n",
       "      <td>2006</td>\n",
       "      <td>8216.067604</td>\n",
       "    </tr>\n",
       "    <tr>\n",
       "      <th>17</th>\n",
       "      <td>2007</td>\n",
       "      <td>7972.854043</td>\n",
       "    </tr>\n",
       "    <tr>\n",
       "      <th>18</th>\n",
       "      <td>2008</td>\n",
       "      <td>7778.590194</td>\n",
       "    </tr>\n",
       "    <tr>\n",
       "      <th>19</th>\n",
       "      <td>2009</td>\n",
       "      <td>8117.278666</td>\n",
       "    </tr>\n",
       "    <tr>\n",
       "      <th>20</th>\n",
       "      <td>2010</td>\n",
       "      <td>7810.693996</td>\n",
       "    </tr>\n",
       "    <tr>\n",
       "      <th>21</th>\n",
       "      <td>2011</td>\n",
       "      <td>8182.976383</td>\n",
       "    </tr>\n",
       "    <tr>\n",
       "      <th>22</th>\n",
       "      <td>2012</td>\n",
       "      <td>7940.106302</td>\n",
       "    </tr>\n",
       "    <tr>\n",
       "      <th>23</th>\n",
       "      <td>2013</td>\n",
       "      <td>8304.118364</td>\n",
       "    </tr>\n",
       "    <tr>\n",
       "      <th>24</th>\n",
       "      <td>2014</td>\n",
       "      <td>8052.334969</td>\n",
       "    </tr>\n",
       "    <tr>\n",
       "      <th>25</th>\n",
       "      <td>2015</td>\n",
       "      <td>8125.784596</td>\n",
       "    </tr>\n",
       "    <tr>\n",
       "      <th>26</th>\n",
       "      <td>2016</td>\n",
       "      <td>8052.380019</td>\n",
       "    </tr>\n",
       "  </tbody>\n",
       "</table>\n",
       "</div>"
      ],
      "text/plain": [
       "    Date.Year  Statistics.Attendance\n",
       "0        1990            5500.000000\n",
       "1        1991           13638.512195\n",
       "2        1992           11737.109589\n",
       "3        1993           10934.178947\n",
       "4        1994           10625.095808\n",
       "5        1995            9689.257908\n",
       "6        1996            7898.931071\n",
       "7        1997            7878.449254\n",
       "8        1998            8062.668286\n",
       "9        1999            7848.025921\n",
       "10       2000            8039.936352\n",
       "11       2001            7785.526676\n",
       "12       2002            7566.053785\n",
       "13       2003            7610.702610\n",
       "14       2004            7792.246217\n",
       "15       2005            7899.488786\n",
       "16       2006            8216.067604\n",
       "17       2007            7972.854043\n",
       "18       2008            7778.590194\n",
       "19       2009            8117.278666\n",
       "20       2010            7810.693996\n",
       "21       2011            8182.976383\n",
       "22       2012            7940.106302\n",
       "23       2013            8304.118364\n",
       "24       2014            8052.334969\n",
       "25       2015            8125.784596\n",
       "26       2016            8052.380019"
      ]
     },
     "execution_count": 125,
     "metadata": {},
     "output_type": "execute_result"
    }
   ],
   "source": [
    "attendance_year_df"
   ]
  },
  {
   "cell_type": "code",
   "execution_count": 126,
   "id": "d2ef1e62-8f61-46d7-9684-0a054f435eee",
   "metadata": {},
   "outputs": [
    {
     "data": {
      "text/plain": [
       "Text(0, 0.5, 'Average Attendance')"
      ]
     },
     "execution_count": 126,
     "metadata": {},
     "output_type": "execute_result"
    },
    {
     "data": {
      "image/png": "[encoded data removed]",
      "text/plain": [
       "<Figure size 720x360 with 1 Axes>"
      ]
     },
     "metadata": {
      "needs_background": "light"
     },
     "output_type": "display_data"
    }
   ],
   "source": [
    "# plotting\n",
    "attendance_year_plot = attendance_year_df.plot(x='Date.Year', y='Statistics.Attendance', figsize=(10,5))\n",
    "attendance_year_plot.set_title('Average Attendance to Broadway Shows in 1990 to 2016')\n",
    "attendance_year_plot.set_xlabel('Year',fontsize=14)\n",
    "attendance_year_plot.set_ylabel('Average Attendance',fontsize=14)"
   ]
  },
  {
   "cell_type": "code",
   "execution_count": 128,
   "id": "f9bf0808-be7d-4ae7-987a-d17bb8ebdaa3",
   "metadata": {},
   "outputs": [],
   "source": [
    "# group data by show type\n",
    "by_type = broadway_df.groupby('Show.Type')\n",
    "type = ['Musical', 'Play', 'Special']"
   ]
  },
  {
   "cell_type": "code",
   "execution_count": 129,
   "id": "25526cc3-1f85-4c10-b040-f757a43363dc",
   "metadata": {},
   "outputs": [],
   "source": [
    "# get average capacity for each show type\n",
    "capacity_t = []\n",
    "for i in type:\n",
    "    capacity_t.append(by_type.get_group(i)['Statistics.Capacity'].mean())"
   ]
  },
  {
   "cell_type": "code",
   "execution_count": 130,
   "id": "b5bcac88-c0ef-4113-82ea-7a8ef8fc6d87",
   "metadata": {},
   "outputs": [],
   "source": [
    "# create dataframe\n",
    "capacity_type_dict = {'Show.Type':type,\n",
    "                      'Statistics.Capacity':capacity_t\n",
    "                      }\n",
    "capacity_type_df = pd.DataFrame(capacity_type_dict)"
   ]
  },
  {
   "cell_type": "code",
   "execution_count": 131,
   "id": "8014f20b-410e-4a0e-a027-d4cdf2940f58",
   "metadata": {},
   "outputs": [
    {
     "data": {
      "text/html": [
       "<div>\n",
       "<style scoped>\n",
       "    .dataframe tbody tr th:only-of-type {\n",
       "        vertical-align: middle;\n",
       "    }\n",
       "\n",
       "    .dataframe tbody tr th {\n",
       "        vertical-align: top;\n",
       "    }\n",
       "\n",
       "    .dataframe thead th {\n",
       "        text-align: right;\n",
       "    }\n",
       "</style>\n",
       "<table border=\"1\" class=\"dataframe\">\n",
       "  <thead>\n",
       "    <tr style=\"text-align: right;\">\n",
       "      <th></th>\n",
       "      <th>Show.Type</th>\n",
       "      <th>Statistics.Capacity</th>\n",
       "    </tr>\n",
       "  </thead>\n",
       "  <tbody>\n",
       "    <tr>\n",
       "      <th>0</th>\n",
       "      <td>Musical</td>\n",
       "      <td>83.468006</td>\n",
       "    </tr>\n",
       "    <tr>\n",
       "      <th>1</th>\n",
       "      <td>Play</td>\n",
       "      <td>73.572924</td>\n",
       "    </tr>\n",
       "    <tr>\n",
       "      <th>2</th>\n",
       "      <td>Special</td>\n",
       "      <td>76.884956</td>\n",
       "    </tr>\n",
       "  </tbody>\n",
       "</table>\n",
       "</div>"
      ],
      "text/plain": [
       "  Show.Type  Statistics.Capacity\n",
       "0   Musical            83.468006\n",
       "1      Play            73.572924\n",
       "2   Special            76.884956"
      ]
     },
     "execution_count": 131,
     "metadata": {},
     "output_type": "execute_result"
    }
   ],
   "source": [
    "capacity_type_df"
   ]
  },
  {
   "cell_type": "code",
   "execution_count": 132,
   "id": "742adfb1-f4f8-4d6e-af86-6151d94a7e6f",
   "metadata": {},
   "outputs": [
    {
     "data": {
      "text/plain": [
       "Text(0, 0.5, 'Average Capacity')"
      ]
     },
     "execution_count": 132,
     "metadata": {},
     "output_type": "execute_result"
    },
    {
     "data": {
      "image/png": "[encoded data removed]",
      "text/plain": [
       "<Figure size 432x288 with 1 Axes>"
      ]
     },
     "metadata": {
      "needs_background": "light"
     },
     "output_type": "display_data"
    }
   ],
   "source": [
    "# plotting\n",
    "capacity_type_plot = capacity_type_df.plot(kind='bar', x='Show.Type', y='Statistics.Capacity', color='green')\n",
    "capacity_type_plot.set_title('Average Capacity of Broadway Shows by Show Type')\n",
    "capacity_type_plot.set_xlabel('Show Type',fontsize=14)\n",
    "capacity_type_plot.set_ylabel('Average Capacity',fontsize=14)"
   ]
  }
 ],
 "metadata": {
  "kernelspec": {
   "display_name": "Python 3 (ipykernel)",
   "language": "python",
   "name": "python3"
  },
  "language_info": {
   "codemirror_mode": {
    "name": "ipython",
    "version": 3
   },
   "file_extension": ".py",
   "mimetype": "text/x-python",
   "name": "python",
   "nbconvert_exporter": "python",
   "pygments_lexer": "ipython3",
   "version": "3.9.6"
  }
 },
 "nbformat": 4,
 "nbformat_minor": 5
}
