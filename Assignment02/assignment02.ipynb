{
 "cells": [
  {
   "cell_type": "markdown",
   "id": "03cd5d48-6d33-4b0a-8e67-d1d5d1aee20d",
   "metadata": {
    "tags": []
   },
   "source": [
    "# Assignment 02: make a Python notebook to analyze CORGIS data"
   ]
  },
  {
   "cell_type": "markdown",
   "id": "7cc6579e-9869-48b7-85b4-70895437aaa5",
   "metadata": {},
   "source": [
    "### Digital Humanities 140 | Jane Huang"
   ]
  },
  {
   "cell_type": "markdown",
   "id": "fe70da57-58b4-4d3f-8aea-2ab0c306559d",
   "metadata": {},
   "source": [
    "## Introduction: The Dataset"
   ]
  },
  {
   "cell_type": "markdown",
   "id": "bb049395-bbae-4f34-9ca1-ffecf810607d",
   "metadata": {},
   "source": [
    "This is the Broadway Python Library from the CORGIS Dataset Project. This dataset is about Broadway shows, which are grouped over weeklong periods. The dataset is made available by the Broadway League. The dataset is obtained from the [CORGIS website](https://corgis-edu.github.io/corgis/python/broadway/)."
   ]
  },
  {
   "cell_type": "markdown",
   "id": "fb5b897f-2aa0-4400-b4a9-bad516a448e5",
   "metadata": {},
   "source": [
    "First, import the broadway data file:"
   ]
  },
  {
   "cell_type": "code",
   "execution_count": 4,
   "id": "823db581-2978-470b-ad6e-2935e65d42d1",
   "metadata": {},
   "outputs": [],
   "source": [
    "# import Broadway dataset\n",
    "import broadway\n",
    "production = broadway.get_production()"
   ]
  },
  {
   "cell_type": "markdown",
   "id": "a9c697c4-b15a-4423-b58b-9c6ba31b7235",
   "metadata": {},
   "source": [
    "Read the broadway data file:"
   ]
  },
  {
   "cell_type": "code",
   "execution_count": 6,
   "id": "5d140592-0f1c-448e-b1d2-c85255629d84",
   "metadata": {},
   "outputs": [
    {
     "data": {
      "text/plain": [
       "list"
      ]
     },
     "execution_count": 6,
     "metadata": {},
     "output_type": "execute_result"
    }
   ],
   "source": [
    "type(production)"
   ]
  },
  {
   "cell_type": "markdown",
   "id": "0bbace26-6c60-4cce-afed-b828373fd5a5",
   "metadata": {},
   "source": [
    "- The type of the broadway data file is a list."
   ]
  },
  {
   "cell_type": "code",
   "execution_count": 7,
   "id": "a791b215-d12f-47f2-9671-369ea5a6a575",
   "metadata": {},
   "outputs": [
    {
     "data": {
      "text/plain": [
       "31296"
      ]
     },
     "execution_count": 7,
     "metadata": {},
     "output_type": "execute_result"
    }
   ],
   "source": [
    "len(production)"
   ]
  },
  {
   "cell_type": "markdown",
   "id": "52c44332-a5a9-45e1-b5cd-f7f6f0bac24d",
   "metadata": {},
   "source": [
    "- The length of the broadway data file is 31296."
   ]
  },
  {
   "cell_type": "markdown",
   "id": "af066c2c-5577-461e-bb5f-c750758ab384",
   "metadata": {},
   "source": [
    "## Exploration"
   ]
  },
  {
   "cell_type": "markdown",
   "id": "f9ab34d1-82f0-4302-8634-fc57e293e3ca",
   "metadata": {},
   "source": [
    "Let's explore some of the variables in the dataset."
   ]
  },
  {
   "cell_type": "markdown",
   "id": "2dcd1271-1344-48c5-9d74-70f08cea3c1f",
   "metadata": {},
   "source": [
    "Using for loop:"
   ]
  },
  {
   "cell_type": "code",
   "execution_count": 58,
   "id": "1df15f9e-fbbd-49ad-82b4-3ae55cbf9409",
   "metadata": {},
   "outputs": [
    {
     "name": "stdout",
     "output_type": "stream",
     "text": [
      "On 4/25/1999, The Lonesome West was performed in Lyceum\n",
      "On 4/25/1999, The Phantom Of The Opera was performed in Majestic\n",
      "On 4/25/1999, The Scarlet Pimpernel was performed in Minskoff\n",
      "On 4/25/1999, The Sound Of Music was performed in Martin Beck\n",
      "On 4/25/1999, The Weir was performed in Walter Kerr\n",
      "On 4/25/1999, Via Dolorosa was performed in Booth\n",
      "On 4/25/1999, You'Re A Good Man, Charlie Brown was performed in Ambassador\n",
      "On 5/2/1999, Amy'S View was performed in Ethel Barrymore\n",
      "On 5/2/1999, Annie Get Your Gun was performed in Marquis\n",
      "On 5/2/1999, Art was performed in Royale\n",
      "On 5/2/1999, Beauty And The Beast was performed in Palace\n",
      "On 5/2/1999, Cabaret 98 was performed in Studio 54 ('98)\n",
      "On 5/2/1999, Cats was performed in Winter Garden\n",
      "On 5/2/1999, Chicago was performed in Shubert\n",
      "On 5/2/1999, Closer was performed in Music Box\n",
      "On 5/2/1999, Death Of A Salesman 99 was performed in Eugene O'Neill\n",
      "On 5/2/1999, Footloose was performed in Richard Rodgers\n",
      "On 5/2/1999, Fosse was performed in Broadhurst\n",
      "On 5/2/1999, It Ain'T Nothin' But The Blues was performed in Vivian Beaumont\n",
      "On 5/2/1999, Jekyll & Hyde was performed in Plymouth\n"
     ]
    }
   ],
   "source": [
    "# print Broadway productions each week with name and attendance\n",
    "for i in production[5010:5030]:\n",
    "    print('On '+ str(i['Date']['Full']) + ', ' + str(i['Show']['Name']) + ' was performed in ' + str(i['Show']['Theatre']))"
   ]
  },
  {
   "cell_type": "markdown",
   "id": "ab9b4fed-93fd-426e-965e-9eee182d83eb",
   "metadata": {},
   "source": [
    "Using mathematical operation, conditional expression, and for loop (for demonstration, print only the first 20 indices in the dataset):"
   ]
  },
  {
   "cell_type": "code",
   "execution_count": 59,
   "id": "c740f7c4-b089-4e94-a6ed-472e4398482a",
   "metadata": {},
   "outputs": [
    {
     "name": "stdout",
     "output_type": "stream",
     "text": [
      "For 8/26/1990, the average number of people who attended performances over the week was 687.5.\n",
      "For 3/24/1991, there was no performance for the week.\n",
      "For 3/31/1991, there was no performance for the week.\n",
      "For 4/7/1991, there was no performance for the week.\n",
      "For 4/14/1991, the average number of people who attended performances over the week was 2743.25.\n",
      "For 4/21/1991, the average number of people who attended performances over the week was 1759.5.\n",
      "For 4/28/1991, the average number of people who attended performances over the week was 1758.125.\n",
      "For 5/5/1991, the average number of people who attended performances over the week was 1758.0.\n",
      "For 5/12/1991, the average number of people who attended performances over the week was 1737.0.\n",
      "For 5/19/1991, the average number of people who attended performances over the week was 1717.25.\n",
      "For 5/26/1991, the average number of people who attended performances over the week was 1737.125.\n",
      "For 6/2/1991, the average number of people who attended performances over the week was 1752.0.\n",
      "For 6/9/1991, the average number of people who attended performances over the week was 1761.0.\n",
      "For 6/16/1991, the average number of people who attended performances over the week was 1761.0.\n",
      "For 6/23/1991, the average number of people who attended performances over the week was 1761.0.\n",
      "For 6/30/1991, the average number of people who attended performances over the week was 1761.0.\n",
      "For 7/7/1991, the average number of people who attended performances over the week was 1761.0.\n",
      "For 7/14/1991, the average number of people who attended performances over the week was 1760.5.\n",
      "For 7/21/1991, the average number of people who attended performances over the week was 1761.0.\n",
      "For 7/28/1991, the average number of people who attended performances over the week was 1761.0.\n"
     ]
    }
   ],
   "source": [
    "# for the first 20 indices in the broadway dataset\n",
    "for i in production[0:20]:\n",
    "    # if performance is not 0 for the week\n",
    "    if i['Statistics']['Performances'] != 0:\n",
    "        # print the average attendance\n",
    "        print('For ' + str(i['Date']['Full']) + ', the average number of people who attended performances over the week was ' + str(i['Statistics']['Attendance']/i['Statistics']['Performances']) + '.')\n",
    "    # else if performance is 0\n",
    "    else:\n",
    "        # print 'there is no performance'\n",
    "        print('For ' + str(i['Date']['Full']) + ', there was no performance for the week.')"
   ]
  },
  {
   "cell_type": "markdown",
   "id": "0f7bfe55-25d0-409e-a50c-dd38eaf1b6fc",
   "metadata": {},
   "source": [
    "Defining function & using mathematical operation:\n",
    "\n",
    "The gross potential is the maximum amount an engagement can possibly earn based on calculations involving ticket prices, seating capacity, and the number of performances."
   ]
  },
  {
   "cell_type": "code",
   "execution_count": 49,
   "id": "d7bfb494-115e-434e-ba93-e8b422728b08",
   "metadata": {},
   "outputs": [],
   "source": [
    "# define function that calculates the gross potential for a production\n",
    "def gp(gross, grossPotentialPercentage):\n",
    "    if grossPotentialPercentage != 0:\n",
    "        return gross/grossPotentialPercentage\n",
    "    else:\n",
    "        return 'Gross potential not available'"
   ]
  },
  {
   "cell_type": "code",
   "execution_count": 62,
   "id": "ad7e21cf-b460-435e-b36c-1130328b12fd",
   "metadata": {},
   "outputs": [
    {
     "data": {
      "text/plain": [
       "'Gross potential not available'"
      ]
     },
     "execution_count": 62,
     "metadata": {},
     "output_type": "execute_result"
    }
   ],
   "source": [
    "# use the newly defined function gp()\n",
    "gp(production[0]['Statistics']['Gross'], production[0]['Statistics']['Gross Potential'])"
   ]
  },
  {
   "cell_type": "markdown",
   "id": "be119d9a-bad7-496a-a1e0-3a9e05300406",
   "metadata": {},
   "source": [
    "- The gross potential was not available."
   ]
  },
  {
   "cell_type": "code",
   "execution_count": 63,
   "id": "bdac490a-1470-4a4a-9d26-ca24db5382b5",
   "metadata": {},
   "outputs": [
    {
     "data": {
      "text/plain": [
       "10384.91"
      ]
     },
     "execution_count": 63,
     "metadata": {},
     "output_type": "execute_result"
    }
   ],
   "source": [
    "# use the newly defined function gp()\n",
    "gp(production[10000]['Statistics']['Gross'], production[10000]['Statistics']['Gross Potential'])"
   ]
  },
  {
   "cell_type": "markdown",
   "id": "611e80bc-df71-4c2f-8970-a95f9ad198a0",
   "metadata": {},
   "source": [
    "- The gross potential was 10384.91."
   ]
  }
 ],
 "metadata": {
  "kernelspec": {
   "display_name": "Python 3 (ipykernel)",
   "language": "python",
   "name": "python3"
  },
  "language_info": {
   "codemirror_mode": {
    "name": "ipython",
    "version": 3
   },
   "file_extension": ".py",
   "mimetype": "text/x-python",
   "name": "python",
   "nbconvert_exporter": "python",
   "pygments_lexer": "ipython3",
   "version": "3.9.6"
  }
 },
 "nbformat": 4,
 "nbformat_minor": 5
}
